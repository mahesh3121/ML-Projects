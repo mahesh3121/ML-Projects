{
 "cells": [
  {
   "cell_type": "code",
   "execution_count": 1,
   "id": "72f9ec4a",
   "metadata": {},
   "outputs": [],
   "source": [
    "import pandas as pd\n",
    "import numpy as np\n",
    "import seaborn as sns\n",
    "import matplotlib.pyplot as plt"
   ]
  },
  {
   "cell_type": "code",
   "execution_count": 2,
   "id": "99fde649",
   "metadata": {},
   "outputs": [],
   "source": [
    "data=pd.read_csv('Bike_Price_Prediction (1).csv')"
   ]
  },
  {
   "cell_type": "code",
   "execution_count": 3,
   "id": "9e47a42a",
   "metadata": {},
   "outputs": [
    {
     "data": {
      "text/html": [
       "<div>\n",
       "<style scoped>\n",
       "    .dataframe tbody tr th:only-of-type {\n",
       "        vertical-align: middle;\n",
       "    }\n",
       "\n",
       "    .dataframe tbody tr th {\n",
       "        vertical-align: top;\n",
       "    }\n",
       "\n",
       "    .dataframe thead th {\n",
       "        text-align: right;\n",
       "    }\n",
       "</style>\n",
       "<table border=\"1\" class=\"dataframe\">\n",
       "  <thead>\n",
       "    <tr style=\"text-align: right;\">\n",
       "      <th></th>\n",
       "      <th>S.no</th>\n",
       "      <th>Bike_company</th>\n",
       "      <th>Bike_model</th>\n",
       "      <th>Manufactured_year</th>\n",
       "      <th>Engine_warranty</th>\n",
       "      <th>Engine_type</th>\n",
       "      <th>Fuel_type</th>\n",
       "      <th>CC(Cubic capacity)</th>\n",
       "      <th>Fuel_Capacity</th>\n",
       "      <th>Price</th>\n",
       "    </tr>\n",
       "  </thead>\n",
       "  <tbody>\n",
       "    <tr>\n",
       "      <th>0</th>\n",
       "      <td>1</td>\n",
       "      <td>Bajaj</td>\n",
       "      <td>Avenger 220</td>\n",
       "      <td>2020</td>\n",
       "      <td>5.0</td>\n",
       "      <td>Single</td>\n",
       "      <td>Petrol</td>\n",
       "      <td>220CC</td>\n",
       "      <td>10 Litres</td>\n",
       "      <td>113000</td>\n",
       "    </tr>\n",
       "    <tr>\n",
       "      <th>1</th>\n",
       "      <td>2</td>\n",
       "      <td>TVS</td>\n",
       "      <td>Apache RTR</td>\n",
       "      <td>2020</td>\n",
       "      <td>5.0</td>\n",
       "      <td>V-twin</td>\n",
       "      <td>Petrol</td>\n",
       "      <td>120CC</td>\n",
       "      <td>11 Litres</td>\n",
       "      <td>70000</td>\n",
       "    </tr>\n",
       "    <tr>\n",
       "      <th>2</th>\n",
       "      <td>3</td>\n",
       "      <td>Hero</td>\n",
       "      <td>Passion</td>\n",
       "      <td>2020</td>\n",
       "      <td>5.0</td>\n",
       "      <td>Boxer</td>\n",
       "      <td>Petrol</td>\n",
       "      <td>140CC</td>\n",
       "      <td>12 Litres</td>\n",
       "      <td>85000</td>\n",
       "    </tr>\n",
       "    <tr>\n",
       "      <th>3</th>\n",
       "      <td>4</td>\n",
       "      <td>Honda</td>\n",
       "      <td>Activa 3G</td>\n",
       "      <td>2020</td>\n",
       "      <td>5.0</td>\n",
       "      <td>Single</td>\n",
       "      <td>Petrol</td>\n",
       "      <td>150CC</td>\n",
       "      <td>13 Litres</td>\n",
       "      <td>90000</td>\n",
       "    </tr>\n",
       "    <tr>\n",
       "      <th>4</th>\n",
       "      <td>5</td>\n",
       "      <td>Suzuki</td>\n",
       "      <td>Access</td>\n",
       "      <td>2020</td>\n",
       "      <td>5.0</td>\n",
       "      <td>V-twin</td>\n",
       "      <td>Petrol</td>\n",
       "      <td>350CC</td>\n",
       "      <td>14 Litres</td>\n",
       "      <td>65000</td>\n",
       "    </tr>\n",
       "  </tbody>\n",
       "</table>\n",
       "</div>"
      ],
      "text/plain": [
       "   S.no Bike_company   Bike_model  Manufactured_year  Engine_warranty  \\\n",
       "0     1        Bajaj  Avenger 220               2020              5.0   \n",
       "1     2          TVS   Apache RTR               2020              5.0   \n",
       "2     3         Hero      Passion               2020              5.0   \n",
       "3     4        Honda    Activa 3G               2020              5.0   \n",
       "4     5       Suzuki       Access               2020              5.0   \n",
       "\n",
       "  Engine_type Fuel_type CC(Cubic capacity) Fuel_Capacity   Price  \n",
       "0      Single    Petrol              220CC     10 Litres  113000  \n",
       "1      V-twin    Petrol              120CC     11 Litres   70000  \n",
       "2       Boxer    Petrol              140CC     12 Litres   85000  \n",
       "3      Single    Petrol              150CC     13 Litres   90000  \n",
       "4      V-twin    Petrol              350CC     14 Litres   65000  "
      ]
     },
     "execution_count": 3,
     "metadata": {},
     "output_type": "execute_result"
    }
   ],
   "source": [
    "data.head()"
   ]
  },
  {
   "cell_type": "code",
   "execution_count": 4,
   "id": "f78ff7c6",
   "metadata": {},
   "outputs": [
    {
     "name": "stdout",
     "output_type": "stream",
     "text": [
      "<class 'pandas.core.frame.DataFrame'>\n",
      "RangeIndex: 308 entries, 0 to 307\n",
      "Data columns (total 10 columns):\n",
      " #   Column              Non-Null Count  Dtype  \n",
      "---  ------              --------------  -----  \n",
      " 0   S.no                308 non-null    int64  \n",
      " 1   Bike_company        308 non-null    object \n",
      " 2   Bike_model          308 non-null    object \n",
      " 3   Manufactured_year   308 non-null    int64  \n",
      " 4   Engine_warranty     306 non-null    float64\n",
      " 5   Engine_type         308 non-null    object \n",
      " 6   Fuel_type           308 non-null    object \n",
      " 7   CC(Cubic capacity)  308 non-null    object \n",
      " 8   Fuel_Capacity       307 non-null    object \n",
      " 9   Price               308 non-null    int64  \n",
      "dtypes: float64(1), int64(3), object(6)\n",
      "memory usage: 24.2+ KB\n"
     ]
    }
   ],
   "source": [
    "data.info()"
   ]
  },
  {
   "cell_type": "code",
   "execution_count": 5,
   "id": "c7a2a6f3",
   "metadata": {},
   "outputs": [
    {
     "data": {
      "text/plain": [
       "S.no                  308\n",
       "Bike_company          308\n",
       "Bike_model            308\n",
       "Manufactured_year     308\n",
       "Engine_warranty       308\n",
       "Engine_type           308\n",
       "Fuel_type             308\n",
       "CC(Cubic capacity)    308\n",
       "Fuel_Capacity         308\n",
       "Price                 308\n",
       "dtype: int64"
      ]
     },
     "execution_count": 5,
     "metadata": {},
     "output_type": "execute_result"
    }
   ],
   "source": [
    "data.isnull().count()"
   ]
  },
  {
   "cell_type": "code",
   "execution_count": 6,
   "id": "f726f245",
   "metadata": {},
   "outputs": [
    {
     "data": {
      "text/plain": [
       "Bike_company\n",
       "Suzuki                      20\n",
       "Yamaha                      20\n",
       "Hero                        19\n",
       "Ducati                      19\n",
       "Mahindra                    17\n",
       "Honda                       16\n",
       "Triumph                     15\n",
       "KTM                         15\n",
       "Lectro Electric             13\n",
       "Kawasaki                    13\n",
       "Bajaj                       12\n",
       "Banelli                     12\n",
       "BMW                         12\n",
       "Harley Davidson             11\n",
       "Li-ion Elektrik Solution    11\n",
       "CFMoto                      11\n",
       "Royal Enfield               10\n",
       "Ather Energy                 9\n",
       "Okinawa                      9\n",
       "TVS                          8\n",
       "Revolt Motors                8\n",
       "Bgauss                       8\n",
       "Jawa                         7\n",
       "22Kymco                      7\n",
       "Odysse                       6\n",
       "Name: count, dtype: int64"
      ]
     },
     "execution_count": 6,
     "metadata": {},
     "output_type": "execute_result"
    }
   ],
   "source": [
    "data['Bike_company'].value_counts()"
   ]
  },
  {
   "cell_type": "code",
   "execution_count": 7,
   "id": "cd904901",
   "metadata": {},
   "outputs": [
    {
     "data": {
      "text/plain": [
       "Index(['S.no', 'Bike_company', 'Bike_model', 'Manufactured_year',\n",
       "       'Engine_warranty', 'Engine_type', 'Fuel_type', 'CC(Cubic capacity)',\n",
       "       'Fuel_Capacity', 'Price'],\n",
       "      dtype='object')"
      ]
     },
     "execution_count": 7,
     "metadata": {},
     "output_type": "execute_result"
    }
   ],
   "source": [
    "data.columns"
   ]
  },
  {
   "cell_type": "code",
   "execution_count": 8,
   "id": "5d5c607d",
   "metadata": {},
   "outputs": [
    {
     "data": {
      "text/plain": [
       "<Axes: xlabel='Engine_type', ylabel='Price'>"
      ]
     },
     "execution_count": 8,
     "metadata": {},
     "output_type": "execute_result"
    },
    {
     "data": {
      "image/png": "[encoded data removed]",
      "text/plain": [
       "<Figure size 640x480 with 1 Axes>"
      ]
     },
     "metadata": {},
     "output_type": "display_data"
    }
   ],
   "source": [
    "sns.scatterplot(x=data['Engine_type'],y=data['Price'])"
   ]
  },
  {
   "cell_type": "code",
   "execution_count": 9,
   "id": "70712970",
   "metadata": {},
   "outputs": [
    {
     "data": {
      "text/plain": [
       "<Axes: xlabel='Fuel_Capacity', ylabel='Price'>"
      ]
     },
     "execution_count": 9,
     "metadata": {},
     "output_type": "execute_result"
    },
    {
     "data": {
      "image/png": "[encoded data removed]",
      "text/plain": [
       "<Figure size 640x480 with 1 Axes>"
      ]
     },
     "metadata": {},
     "output_type": "display_data"
    }
   ],
   "source": [
    "sns.scatterplot(x=data['Fuel_Capacity'],y=data['Price'])"
   ]
  },
  {
   "cell_type": "code",
   "execution_count": 10,
   "id": "65025eab",
   "metadata": {},
   "outputs": [
    {
     "data": {
      "text/plain": [
       "<Axes: xlabel='Price'>"
      ]
     },
     "execution_count": 10,
     "metadata": {},
     "output_type": "execute_result"
    },
    {
     "data": {
      "image/png": "[encoded data removed]",
      "text/plain": [
       "<Figure size 640x480 with 1 Axes>"
      ]
     },
     "metadata": {},
     "output_type": "display_data"
    }
   ],
   "source": [
    "sns.boxplot(data,x='Price')"
   ]
  },
  {
   "cell_type": "code",
   "execution_count": 11,
   "id": "dc59962e",
   "metadata": {},
   "outputs": [],
   "source": [
    "q1=data['Price'].quantile(0.25)\n",
    "q3=data['Price'].quantile(0.75)"
   ]
  },
  {
   "cell_type": "code",
   "execution_count": 12,
   "id": "a697d361",
   "metadata": {},
   "outputs": [],
   "source": [
    "iqr=q3-q1"
   ]
  },
  {
   "cell_type": "code",
   "execution_count": 13,
   "id": "725220e4",
   "metadata": {},
   "outputs": [
    {
     "data": {
      "text/plain": [
       "266250.0"
      ]
     },
     "execution_count": 13,
     "metadata": {},
     "output_type": "execute_result"
    }
   ],
   "source": [
    "iqr"
   ]
  },
  {
   "cell_type": "code",
   "execution_count": 14,
   "id": "64474a65",
   "metadata": {},
   "outputs": [
    {
     "data": {
      "text/plain": [
       "(740625.0, -324375.0)"
      ]
     },
     "execution_count": 14,
     "metadata": {},
     "output_type": "execute_result"
    }
   ],
   "source": [
    "upper_limit=q3+1.5*iqr\n",
    "lower_limit=q1-1.5*iqr\n",
    "upper_limit,lower_limit"
   ]
  },
  {
   "cell_type": "code",
   "execution_count": 15,
   "id": "2db04fa7",
   "metadata": {},
   "outputs": [],
   "source": [
    "def limit_imputer(value):\n",
    "    if value>upper_limit:\n",
    "        return upper_limit\n",
    "    if value<lower_limit:\n",
    "        return lower_limit\n",
    "    else:\n",
    "        return value"
   ]
  },
  {
   "cell_type": "code",
   "execution_count": 16,
   "id": "bbf72a14",
   "metadata": {},
   "outputs": [],
   "source": [
    "data['Price']=data['Price'].apply(limit_imputer)"
   ]
  },
  {
   "cell_type": "code",
   "execution_count": 17,
   "id": "127e1eaf",
   "metadata": {},
   "outputs": [
    {
     "data": {
      "text/html": [
       "<div>\n",
       "<style scoped>\n",
       "    .dataframe tbody tr th:only-of-type {\n",
       "        vertical-align: middle;\n",
       "    }\n",
       "\n",
       "    .dataframe tbody tr th {\n",
       "        vertical-align: top;\n",
       "    }\n",
       "\n",
       "    .dataframe thead th {\n",
       "        text-align: right;\n",
       "    }\n",
       "</style>\n",
       "<table border=\"1\" class=\"dataframe\">\n",
       "  <thead>\n",
       "    <tr style=\"text-align: right;\">\n",
       "      <th></th>\n",
       "      <th>S.no</th>\n",
       "      <th>Manufactured_year</th>\n",
       "      <th>Engine_warranty</th>\n",
       "      <th>Price</th>\n",
       "    </tr>\n",
       "  </thead>\n",
       "  <tbody>\n",
       "    <tr>\n",
       "      <th>count</th>\n",
       "      <td>308.000000</td>\n",
       "      <td>308.000000</td>\n",
       "      <td>306.000000</td>\n",
       "      <td>308.000000</td>\n",
       "    </tr>\n",
       "    <tr>\n",
       "      <th>mean</th>\n",
       "      <td>154.496753</td>\n",
       "      <td>2010.847403</td>\n",
       "      <td>6.032680</td>\n",
       "      <td>230670.980519</td>\n",
       "    </tr>\n",
       "    <tr>\n",
       "      <th>std</th>\n",
       "      <td>89.059088</td>\n",
       "      <td>104.747343</td>\n",
       "      <td>3.719542</td>\n",
       "      <td>221360.253105</td>\n",
       "    </tr>\n",
       "    <tr>\n",
       "      <th>min</th>\n",
       "      <td>1.000000</td>\n",
       "      <td>202.000000</td>\n",
       "      <td>2.000000</td>\n",
       "      <td>50000.000000</td>\n",
       "    </tr>\n",
       "    <tr>\n",
       "      <th>25%</th>\n",
       "      <td>77.750000</td>\n",
       "      <td>2017.000000</td>\n",
       "      <td>4.000000</td>\n",
       "      <td>75000.000000</td>\n",
       "    </tr>\n",
       "    <tr>\n",
       "      <th>50%</th>\n",
       "      <td>154.500000</td>\n",
       "      <td>2019.000000</td>\n",
       "      <td>5.000000</td>\n",
       "      <td>104500.000000</td>\n",
       "    </tr>\n",
       "    <tr>\n",
       "      <th>75%</th>\n",
       "      <td>231.250000</td>\n",
       "      <td>2020.000000</td>\n",
       "      <td>8.000000</td>\n",
       "      <td>341250.000000</td>\n",
       "    </tr>\n",
       "    <tr>\n",
       "      <th>max</th>\n",
       "      <td>308.000000</td>\n",
       "      <td>2050.000000</td>\n",
       "      <td>50.000000</td>\n",
       "      <td>740625.000000</td>\n",
       "    </tr>\n",
       "  </tbody>\n",
       "</table>\n",
       "</div>"
      ],
      "text/plain": [
       "             S.no  Manufactured_year  Engine_warranty          Price\n",
       "count  308.000000         308.000000       306.000000     308.000000\n",
       "mean   154.496753        2010.847403         6.032680  230670.980519\n",
       "std     89.059088         104.747343         3.719542  221360.253105\n",
       "min      1.000000         202.000000         2.000000   50000.000000\n",
       "25%     77.750000        2017.000000         4.000000   75000.000000\n",
       "50%    154.500000        2019.000000         5.000000  104500.000000\n",
       "75%    231.250000        2020.000000         8.000000  341250.000000\n",
       "max    308.000000        2050.000000        50.000000  740625.000000"
      ]
     },
     "execution_count": 17,
     "metadata": {},
     "output_type": "execute_result"
    }
   ],
   "source": [
    "data.describe()"
   ]
  },
  {
   "cell_type": "code",
   "execution_count": 18,
   "id": "4f86e0f0",
   "metadata": {},
   "outputs": [
    {
     "data": {
      "text/plain": [
       "<Axes: xlabel='Price'>"
      ]
     },
     "execution_count": 18,
     "metadata": {},
     "output_type": "execute_result"
    },
    {
     "data": {
      "image/png": "[encoded data removed]",
      "text/plain": [
       "<Figure size 640x480 with 1 Axes>"
      ]
     },
     "metadata": {},
     "output_type": "display_data"
    }
   ],
   "source": [
    "sns.boxplot(data,x='Price')"
   ]
  },
  {
   "cell_type": "code",
   "execution_count": 19,
   "id": "6fca940b",
   "metadata": {},
   "outputs": [
    {
     "data": {
      "text/plain": [
       "(array([179.,  28.,  16.,  23.,  12.,   8.,  13.,  29.]),\n",
       " array([ 50000.   , 136328.125, 222656.25 , 308984.375, 395312.5  ,\n",
       "        481640.625, 567968.75 , 654296.875, 740625.   ]),\n",
       " <BarContainer object of 8 artists>)"
      ]
     },
     "execution_count": 19,
     "metadata": {},
     "output_type": "execute_result"
    },
    {
     "data": {
      "image/png": "[encoded data removed]",
      "text/plain": [
       "<Figure size 640x480 with 1 Axes>"
      ]
     },
     "metadata": {},
     "output_type": "display_data"
    }
   ],
   "source": [
    "plt.hist(data['Price'],bins=8)"
   ]
  },
  {
   "cell_type": "code",
   "execution_count": 20,
   "id": "e3e4eec6",
   "metadata": {},
   "outputs": [
    {
     "data": {
      "text/html": [
       "<div>\n",
       "<style scoped>\n",
       "    .dataframe tbody tr th:only-of-type {\n",
       "        vertical-align: middle;\n",
       "    }\n",
       "\n",
       "    .dataframe tbody tr th {\n",
       "        vertical-align: top;\n",
       "    }\n",
       "\n",
       "    .dataframe thead th {\n",
       "        text-align: right;\n",
       "    }\n",
       "</style>\n",
       "<table border=\"1\" class=\"dataframe\">\n",
       "  <thead>\n",
       "    <tr style=\"text-align: right;\">\n",
       "      <th></th>\n",
       "      <th>S.no</th>\n",
       "      <th>Bike_company</th>\n",
       "      <th>Bike_model</th>\n",
       "      <th>Manufactured_year</th>\n",
       "      <th>Engine_warranty</th>\n",
       "      <th>Engine_type</th>\n",
       "      <th>Fuel_type</th>\n",
       "      <th>CC(Cubic capacity)</th>\n",
       "      <th>Fuel_Capacity</th>\n",
       "      <th>Price</th>\n",
       "    </tr>\n",
       "  </thead>\n",
       "  <tbody>\n",
       "    <tr>\n",
       "      <th>0</th>\n",
       "      <td>1</td>\n",
       "      <td>Bajaj</td>\n",
       "      <td>Avenger 220</td>\n",
       "      <td>2020</td>\n",
       "      <td>5.0</td>\n",
       "      <td>Single</td>\n",
       "      <td>Petrol</td>\n",
       "      <td>220CC</td>\n",
       "      <td>10 Litres</td>\n",
       "      <td>113000.0</td>\n",
       "    </tr>\n",
       "    <tr>\n",
       "      <th>1</th>\n",
       "      <td>2</td>\n",
       "      <td>TVS</td>\n",
       "      <td>Apache RTR</td>\n",
       "      <td>2020</td>\n",
       "      <td>5.0</td>\n",
       "      <td>V-twin</td>\n",
       "      <td>Petrol</td>\n",
       "      <td>120CC</td>\n",
       "      <td>11 Litres</td>\n",
       "      <td>70000.0</td>\n",
       "    </tr>\n",
       "    <tr>\n",
       "      <th>2</th>\n",
       "      <td>3</td>\n",
       "      <td>Hero</td>\n",
       "      <td>Passion</td>\n",
       "      <td>2020</td>\n",
       "      <td>5.0</td>\n",
       "      <td>Boxer</td>\n",
       "      <td>Petrol</td>\n",
       "      <td>140CC</td>\n",
       "      <td>12 Litres</td>\n",
       "      <td>85000.0</td>\n",
       "    </tr>\n",
       "    <tr>\n",
       "      <th>3</th>\n",
       "      <td>4</td>\n",
       "      <td>Honda</td>\n",
       "      <td>Activa 3G</td>\n",
       "      <td>2020</td>\n",
       "      <td>5.0</td>\n",
       "      <td>Single</td>\n",
       "      <td>Petrol</td>\n",
       "      <td>150CC</td>\n",
       "      <td>13 Litres</td>\n",
       "      <td>90000.0</td>\n",
       "    </tr>\n",
       "    <tr>\n",
       "      <th>4</th>\n",
       "      <td>5</td>\n",
       "      <td>Suzuki</td>\n",
       "      <td>Access</td>\n",
       "      <td>2020</td>\n",
       "      <td>5.0</td>\n",
       "      <td>V-twin</td>\n",
       "      <td>Petrol</td>\n",
       "      <td>350CC</td>\n",
       "      <td>14 Litres</td>\n",
       "      <td>65000.0</td>\n",
       "    </tr>\n",
       "  </tbody>\n",
       "</table>\n",
       "</div>"
      ],
      "text/plain": [
       "   S.no Bike_company   Bike_model  Manufactured_year  Engine_warranty  \\\n",
       "0     1        Bajaj  Avenger 220               2020              5.0   \n",
       "1     2          TVS   Apache RTR               2020              5.0   \n",
       "2     3         Hero      Passion               2020              5.0   \n",
       "3     4        Honda    Activa 3G               2020              5.0   \n",
       "4     5       Suzuki       Access               2020              5.0   \n",
       "\n",
       "  Engine_type Fuel_type CC(Cubic capacity) Fuel_Capacity     Price  \n",
       "0      Single    Petrol              220CC     10 Litres  113000.0  \n",
       "1      V-twin    Petrol              120CC     11 Litres   70000.0  \n",
       "2       Boxer    Petrol              140CC     12 Litres   85000.0  \n",
       "3      Single    Petrol              150CC     13 Litres   90000.0  \n",
       "4      V-twin    Petrol              350CC     14 Litres   65000.0  "
      ]
     },
     "execution_count": 20,
     "metadata": {},
     "output_type": "execute_result"
    }
   ],
   "source": [
    "data.head()"
   ]
  },
  {
   "cell_type": "code",
   "execution_count": 21,
   "id": "2e42e1db",
   "metadata": {},
   "outputs": [],
   "source": [
    "data['Fuel_Capacity']=data['Fuel_Capacity'].str.replace(\"Litres\",'')"
   ]
  },
  {
   "cell_type": "code",
   "execution_count": 22,
   "id": "47fefb8a",
   "metadata": {},
   "outputs": [],
   "source": [
    "data['CC(Cubic capacity)']=data['CC(Cubic capacity)'].str.replace(\"CC\",'')"
   ]
  },
  {
   "cell_type": "code",
   "execution_count": 23,
   "id": "7dcf4c2f",
   "metadata": {},
   "outputs": [
    {
     "name": "stdout",
     "output_type": "stream",
     "text": [
      "<class 'pandas.core.frame.DataFrame'>\n",
      "RangeIndex: 308 entries, 0 to 307\n",
      "Data columns (total 10 columns):\n",
      " #   Column              Non-Null Count  Dtype  \n",
      "---  ------              --------------  -----  \n",
      " 0   S.no                308 non-null    int64  \n",
      " 1   Bike_company        308 non-null    object \n",
      " 2   Bike_model          308 non-null    object \n",
      " 3   Manufactured_year   308 non-null    int64  \n",
      " 4   Engine_warranty     306 non-null    float64\n",
      " 5   Engine_type         308 non-null    object \n",
      " 6   Fuel_type           308 non-null    object \n",
      " 7   CC(Cubic capacity)  308 non-null    object \n",
      " 8   Fuel_Capacity       307 non-null    object \n",
      " 9   Price               308 non-null    float64\n",
      "dtypes: float64(2), int64(2), object(6)\n",
      "memory usage: 24.2+ KB\n"
     ]
    }
   ],
   "source": [
    "data.info()"
   ]
  },
  {
   "cell_type": "code",
   "execution_count": 24,
   "id": "783d8d9e",
   "metadata": {},
   "outputs": [],
   "source": [
    "#data['Fuel_Capacity']=data['Fuel_Capacity'].astype(int)"
   ]
  },
  {
   "cell_type": "code",
   "execution_count": 25,
   "id": "ca0c74f3",
   "metadata": {},
   "outputs": [],
   "source": [
    "data['CC(Cubic capacity)']=data['CC(Cubic capacity)'].astype(float)"
   ]
  },
  {
   "cell_type": "code",
   "execution_count": 26,
   "id": "c199a257",
   "metadata": {},
   "outputs": [
    {
     "data": {
      "text/html": [
       "<div>\n",
       "<style scoped>\n",
       "    .dataframe tbody tr th:only-of-type {\n",
       "        vertical-align: middle;\n",
       "    }\n",
       "\n",
       "    .dataframe tbody tr th {\n",
       "        vertical-align: top;\n",
       "    }\n",
       "\n",
       "    .dataframe thead th {\n",
       "        text-align: right;\n",
       "    }\n",
       "</style>\n",
       "<table border=\"1\" class=\"dataframe\">\n",
       "  <thead>\n",
       "    <tr style=\"text-align: right;\">\n",
       "      <th></th>\n",
       "      <th>S.no</th>\n",
       "      <th>Bike_company</th>\n",
       "      <th>Bike_model</th>\n",
       "      <th>Manufactured_year</th>\n",
       "      <th>Engine_warranty</th>\n",
       "      <th>Engine_type</th>\n",
       "      <th>Fuel_type</th>\n",
       "      <th>CC(Cubic capacity)</th>\n",
       "      <th>Fuel_Capacity</th>\n",
       "      <th>Price</th>\n",
       "    </tr>\n",
       "  </thead>\n",
       "  <tbody>\n",
       "    <tr>\n",
       "      <th>0</th>\n",
       "      <td>1</td>\n",
       "      <td>Bajaj</td>\n",
       "      <td>Avenger 220</td>\n",
       "      <td>2020</td>\n",
       "      <td>5.0</td>\n",
       "      <td>Single</td>\n",
       "      <td>Petrol</td>\n",
       "      <td>220.0</td>\n",
       "      <td>10</td>\n",
       "      <td>113000.0</td>\n",
       "    </tr>\n",
       "    <tr>\n",
       "      <th>1</th>\n",
       "      <td>2</td>\n",
       "      <td>TVS</td>\n",
       "      <td>Apache RTR</td>\n",
       "      <td>2020</td>\n",
       "      <td>5.0</td>\n",
       "      <td>V-twin</td>\n",
       "      <td>Petrol</td>\n",
       "      <td>120.0</td>\n",
       "      <td>11</td>\n",
       "      <td>70000.0</td>\n",
       "    </tr>\n",
       "    <tr>\n",
       "      <th>2</th>\n",
       "      <td>3</td>\n",
       "      <td>Hero</td>\n",
       "      <td>Passion</td>\n",
       "      <td>2020</td>\n",
       "      <td>5.0</td>\n",
       "      <td>Boxer</td>\n",
       "      <td>Petrol</td>\n",
       "      <td>140.0</td>\n",
       "      <td>12</td>\n",
       "      <td>85000.0</td>\n",
       "    </tr>\n",
       "    <tr>\n",
       "      <th>3</th>\n",
       "      <td>4</td>\n",
       "      <td>Honda</td>\n",
       "      <td>Activa 3G</td>\n",
       "      <td>2020</td>\n",
       "      <td>5.0</td>\n",
       "      <td>Single</td>\n",
       "      <td>Petrol</td>\n",
       "      <td>150.0</td>\n",
       "      <td>13</td>\n",
       "      <td>90000.0</td>\n",
       "    </tr>\n",
       "    <tr>\n",
       "      <th>4</th>\n",
       "      <td>5</td>\n",
       "      <td>Suzuki</td>\n",
       "      <td>Access</td>\n",
       "      <td>2020</td>\n",
       "      <td>5.0</td>\n",
       "      <td>V-twin</td>\n",
       "      <td>Petrol</td>\n",
       "      <td>350.0</td>\n",
       "      <td>14</td>\n",
       "      <td>65000.0</td>\n",
       "    </tr>\n",
       "  </tbody>\n",
       "</table>\n",
       "</div>"
      ],
      "text/plain": [
       "   S.no Bike_company   Bike_model  Manufactured_year  Engine_warranty  \\\n",
       "0     1        Bajaj  Avenger 220               2020              5.0   \n",
       "1     2          TVS   Apache RTR               2020              5.0   \n",
       "2     3         Hero      Passion               2020              5.0   \n",
       "3     4        Honda    Activa 3G               2020              5.0   \n",
       "4     5       Suzuki       Access               2020              5.0   \n",
       "\n",
       "  Engine_type Fuel_type  CC(Cubic capacity) Fuel_Capacity     Price  \n",
       "0      Single    Petrol               220.0           10   113000.0  \n",
       "1      V-twin    Petrol               120.0           11    70000.0  \n",
       "2       Boxer    Petrol               140.0           12    85000.0  \n",
       "3      Single    Petrol               150.0           13    90000.0  \n",
       "4      V-twin    Petrol               350.0           14    65000.0  "
      ]
     },
     "execution_count": 26,
     "metadata": {},
     "output_type": "execute_result"
    }
   ],
   "source": [
    "data.head()"
   ]
  },
  {
   "cell_type": "code",
   "execution_count": 27,
   "id": "cfe41fd2",
   "metadata": {},
   "outputs": [
    {
     "name": "stdout",
     "output_type": "stream",
     "text": [
      "<class 'pandas.core.frame.DataFrame'>\n",
      "RangeIndex: 308 entries, 0 to 307\n",
      "Data columns (total 10 columns):\n",
      " #   Column              Non-Null Count  Dtype  \n",
      "---  ------              --------------  -----  \n",
      " 0   S.no                308 non-null    int64  \n",
      " 1   Bike_company        308 non-null    object \n",
      " 2   Bike_model          308 non-null    object \n",
      " 3   Manufactured_year   308 non-null    int64  \n",
      " 4   Engine_warranty     306 non-null    float64\n",
      " 5   Engine_type         308 non-null    object \n",
      " 6   Fuel_type           308 non-null    object \n",
      " 7   CC(Cubic capacity)  308 non-null    float64\n",
      " 8   Fuel_Capacity       307 non-null    object \n",
      " 9   Price               308 non-null    float64\n",
      "dtypes: float64(3), int64(2), object(5)\n",
      "memory usage: 24.2+ KB\n"
     ]
    }
   ],
   "source": [
    "data.info()"
   ]
  },
  {
   "cell_type": "code",
   "execution_count": 28,
   "id": "287e3a2d",
   "metadata": {},
   "outputs": [
    {
     "data": {
      "text/html": [
       "<div>\n",
       "<style scoped>\n",
       "    .dataframe tbody tr th:only-of-type {\n",
       "        vertical-align: middle;\n",
       "    }\n",
       "\n",
       "    .dataframe tbody tr th {\n",
       "        vertical-align: top;\n",
       "    }\n",
       "\n",
       "    .dataframe thead th {\n",
       "        text-align: right;\n",
       "    }\n",
       "</style>\n",
       "<table border=\"1\" class=\"dataframe\">\n",
       "  <thead>\n",
       "    <tr style=\"text-align: right;\">\n",
       "      <th></th>\n",
       "      <th>S.no</th>\n",
       "      <th>Bike_company</th>\n",
       "      <th>Bike_model</th>\n",
       "      <th>Manufactured_year</th>\n",
       "      <th>Engine_warranty</th>\n",
       "      <th>Engine_type</th>\n",
       "      <th>Fuel_type</th>\n",
       "      <th>CC(Cubic capacity)</th>\n",
       "      <th>Fuel_Capacity</th>\n",
       "      <th>Price</th>\n",
       "    </tr>\n",
       "  </thead>\n",
       "  <tbody>\n",
       "    <tr>\n",
       "      <th>0</th>\n",
       "      <td>1</td>\n",
       "      <td>Bajaj</td>\n",
       "      <td>Avenger 220</td>\n",
       "      <td>2020</td>\n",
       "      <td>5.0</td>\n",
       "      <td>Single</td>\n",
       "      <td>Petrol</td>\n",
       "      <td>220.0</td>\n",
       "      <td>10</td>\n",
       "      <td>113000.0</td>\n",
       "    </tr>\n",
       "    <tr>\n",
       "      <th>1</th>\n",
       "      <td>2</td>\n",
       "      <td>TVS</td>\n",
       "      <td>Apache RTR</td>\n",
       "      <td>2020</td>\n",
       "      <td>5.0</td>\n",
       "      <td>V-twin</td>\n",
       "      <td>Petrol</td>\n",
       "      <td>120.0</td>\n",
       "      <td>11</td>\n",
       "      <td>70000.0</td>\n",
       "    </tr>\n",
       "    <tr>\n",
       "      <th>2</th>\n",
       "      <td>3</td>\n",
       "      <td>Hero</td>\n",
       "      <td>Passion</td>\n",
       "      <td>2020</td>\n",
       "      <td>5.0</td>\n",
       "      <td>Boxer</td>\n",
       "      <td>Petrol</td>\n",
       "      <td>140.0</td>\n",
       "      <td>12</td>\n",
       "      <td>85000.0</td>\n",
       "    </tr>\n",
       "    <tr>\n",
       "      <th>3</th>\n",
       "      <td>4</td>\n",
       "      <td>Honda</td>\n",
       "      <td>Activa 3G</td>\n",
       "      <td>2020</td>\n",
       "      <td>5.0</td>\n",
       "      <td>Single</td>\n",
       "      <td>Petrol</td>\n",
       "      <td>150.0</td>\n",
       "      <td>13</td>\n",
       "      <td>90000.0</td>\n",
       "    </tr>\n",
       "    <tr>\n",
       "      <th>4</th>\n",
       "      <td>5</td>\n",
       "      <td>Suzuki</td>\n",
       "      <td>Access</td>\n",
       "      <td>2020</td>\n",
       "      <td>5.0</td>\n",
       "      <td>V-twin</td>\n",
       "      <td>Petrol</td>\n",
       "      <td>350.0</td>\n",
       "      <td>14</td>\n",
       "      <td>65000.0</td>\n",
       "    </tr>\n",
       "  </tbody>\n",
       "</table>\n",
       "</div>"
      ],
      "text/plain": [
       "   S.no Bike_company   Bike_model  Manufactured_year  Engine_warranty  \\\n",
       "0     1        Bajaj  Avenger 220               2020              5.0   \n",
       "1     2          TVS   Apache RTR               2020              5.0   \n",
       "2     3         Hero      Passion               2020              5.0   \n",
       "3     4        Honda    Activa 3G               2020              5.0   \n",
       "4     5       Suzuki       Access               2020              5.0   \n",
       "\n",
       "  Engine_type Fuel_type  CC(Cubic capacity) Fuel_Capacity     Price  \n",
       "0      Single    Petrol               220.0           10   113000.0  \n",
       "1      V-twin    Petrol               120.0           11    70000.0  \n",
       "2       Boxer    Petrol               140.0           12    85000.0  \n",
       "3      Single    Petrol               150.0           13    90000.0  \n",
       "4      V-twin    Petrol               350.0           14    65000.0  "
      ]
     },
     "execution_count": 28,
     "metadata": {},
     "output_type": "execute_result"
    }
   ],
   "source": [
    "data.head()"
   ]
  },
  {
   "cell_type": "code",
   "execution_count": 29,
   "id": "26323dce",
   "metadata": {},
   "outputs": [
    {
     "data": {
      "text/plain": [
       "array(['Single', 'V-twin', 'Boxer', 'Two-Stroke', 'Dual Stroke',\n",
       "       'Oxidiser-Air inlet'], dtype=object)"
      ]
     },
     "execution_count": 29,
     "metadata": {},
     "output_type": "execute_result"
    }
   ],
   "source": [
    "data['Engine_type'].unique()"
   ]
  },
  {
   "cell_type": "code",
   "execution_count": 30,
   "id": "1528133c",
   "metadata": {},
   "outputs": [
    {
     "data": {
      "text/plain": [
       "<Axes: xlabel='Engine_type'>"
      ]
     },
     "execution_count": 30,
     "metadata": {},
     "output_type": "execute_result"
    },
    {
     "data": {
      "image/png": "[encoded data removed]",
      "text/plain": [
       "<Figure size 640x480 with 1 Axes>"
      ]
     },
     "metadata": {},
     "output_type": "display_data"
    }
   ],
   "source": [
    "data.groupby('Engine_type')['Price'].mean().sort_values().plot(kind='bar')"
   ]
  },
  {
   "cell_type": "code",
   "execution_count": 31,
   "id": "635e53ec",
   "metadata": {},
   "outputs": [
    {
     "data": {
      "text/plain": [
       "array(['Petrol', 'Electricity'], dtype=object)"
      ]
     },
     "execution_count": 31,
     "metadata": {},
     "output_type": "execute_result"
    }
   ],
   "source": [
    "data['Fuel_type'].unique()"
   ]
  },
  {
   "cell_type": "code",
   "execution_count": 32,
   "id": "e281d903",
   "metadata": {},
   "outputs": [
    {
     "data": {
      "text/plain": [
       "<Axes: xlabel='Fuel_type'>"
      ]
     },
     "execution_count": 32,
     "metadata": {},
     "output_type": "execute_result"
    },
    {
     "data": {
      "image/png": "[encoded data removed]",
      "text/plain": [
       "<Figure size 640x480 with 1 Axes>"
      ]
     },
     "metadata": {},
     "output_type": "display_data"
    }
   ],
   "source": [
    "data.groupby('Fuel_type')['Price'].mean().sort_values().plot(kind='bar')"
   ]
  },
  {
   "cell_type": "code",
   "execution_count": null,
   "id": "5cf0e14e",
   "metadata": {},
   "outputs": [],
   "source": []
  },
  {
   "cell_type": "code",
   "execution_count": 33,
   "id": "af8d69f2",
   "metadata": {},
   "outputs": [
    {
     "data": {
      "text/html": [
       "<div>\n",
       "<style scoped>\n",
       "    .dataframe tbody tr th:only-of-type {\n",
       "        vertical-align: middle;\n",
       "    }\n",
       "\n",
       "    .dataframe tbody tr th {\n",
       "        vertical-align: top;\n",
       "    }\n",
       "\n",
       "    .dataframe thead th {\n",
       "        text-align: right;\n",
       "    }\n",
       "</style>\n",
       "<table border=\"1\" class=\"dataframe\">\n",
       "  <thead>\n",
       "    <tr style=\"text-align: right;\">\n",
       "      <th></th>\n",
       "      <th>S.no</th>\n",
       "      <th>Bike_company</th>\n",
       "      <th>Bike_model</th>\n",
       "      <th>Manufactured_year</th>\n",
       "      <th>Engine_warranty</th>\n",
       "      <th>Engine_type</th>\n",
       "      <th>Fuel_type</th>\n",
       "      <th>CC(Cubic capacity)</th>\n",
       "      <th>Fuel_Capacity</th>\n",
       "      <th>Price</th>\n",
       "    </tr>\n",
       "  </thead>\n",
       "  <tbody>\n",
       "    <tr>\n",
       "      <th>0</th>\n",
       "      <td>1</td>\n",
       "      <td>Bajaj</td>\n",
       "      <td>Avenger 220</td>\n",
       "      <td>2020</td>\n",
       "      <td>5.0</td>\n",
       "      <td>Single</td>\n",
       "      <td>Petrol</td>\n",
       "      <td>220.0</td>\n",
       "      <td>10</td>\n",
       "      <td>113000.0</td>\n",
       "    </tr>\n",
       "    <tr>\n",
       "      <th>3</th>\n",
       "      <td>4</td>\n",
       "      <td>Honda</td>\n",
       "      <td>Activa 3G</td>\n",
       "      <td>2020</td>\n",
       "      <td>5.0</td>\n",
       "      <td>Single</td>\n",
       "      <td>Petrol</td>\n",
       "      <td>150.0</td>\n",
       "      <td>13</td>\n",
       "      <td>90000.0</td>\n",
       "    </tr>\n",
       "    <tr>\n",
       "      <th>6</th>\n",
       "      <td>7</td>\n",
       "      <td>Yamaha</td>\n",
       "      <td>Fascino</td>\n",
       "      <td>2018</td>\n",
       "      <td>5.0</td>\n",
       "      <td>Single</td>\n",
       "      <td>Petrol</td>\n",
       "      <td>150.0</td>\n",
       "      <td>16</td>\n",
       "      <td>65000.0</td>\n",
       "    </tr>\n",
       "    <tr>\n",
       "      <th>9</th>\n",
       "      <td>10</td>\n",
       "      <td>Kawasaki</td>\n",
       "      <td>Ninja</td>\n",
       "      <td>2011</td>\n",
       "      <td>5.0</td>\n",
       "      <td>Single</td>\n",
       "      <td>Petrol</td>\n",
       "      <td>170.0</td>\n",
       "      <td>19</td>\n",
       "      <td>99999.0</td>\n",
       "    </tr>\n",
       "    <tr>\n",
       "      <th>12</th>\n",
       "      <td>13</td>\n",
       "      <td>Banelli</td>\n",
       "      <td>Limperiale</td>\n",
       "      <td>2014</td>\n",
       "      <td>10.0</td>\n",
       "      <td>Single</td>\n",
       "      <td>Petrol</td>\n",
       "      <td>220.0</td>\n",
       "      <td>22</td>\n",
       "      <td>130000.0</td>\n",
       "    </tr>\n",
       "    <tr>\n",
       "      <th>...</th>\n",
       "      <td>...</td>\n",
       "      <td>...</td>\n",
       "      <td>...</td>\n",
       "      <td>...</td>\n",
       "      <td>...</td>\n",
       "      <td>...</td>\n",
       "      <td>...</td>\n",
       "      <td>...</td>\n",
       "      <td>...</td>\n",
       "      <td>...</td>\n",
       "    </tr>\n",
       "    <tr>\n",
       "      <th>282</th>\n",
       "      <td>283</td>\n",
       "      <td>22Kymco</td>\n",
       "      <td>Like 200</td>\n",
       "      <td>2020</td>\n",
       "      <td>5.0</td>\n",
       "      <td>Single</td>\n",
       "      <td>Electricity</td>\n",
       "      <td>220.0</td>\n",
       "      <td>15</td>\n",
       "      <td>67989.0</td>\n",
       "    </tr>\n",
       "    <tr>\n",
       "      <th>283</th>\n",
       "      <td>284</td>\n",
       "      <td>22Kymco</td>\n",
       "      <td>X-Town</td>\n",
       "      <td>2020</td>\n",
       "      <td>5.0</td>\n",
       "      <td>Single</td>\n",
       "      <td>Electricity</td>\n",
       "      <td>235.0</td>\n",
       "      <td>16</td>\n",
       "      <td>69879.0</td>\n",
       "    </tr>\n",
       "    <tr>\n",
       "      <th>284</th>\n",
       "      <td>285</td>\n",
       "      <td>TVS</td>\n",
       "      <td>Jupiter</td>\n",
       "      <td>2017</td>\n",
       "      <td>3.0</td>\n",
       "      <td>Single</td>\n",
       "      <td>Petrol</td>\n",
       "      <td>125.0</td>\n",
       "      <td>17</td>\n",
       "      <td>74500.0</td>\n",
       "    </tr>\n",
       "    <tr>\n",
       "      <th>285</th>\n",
       "      <td>286</td>\n",
       "      <td>Yamaha</td>\n",
       "      <td>Fascino</td>\n",
       "      <td>2017</td>\n",
       "      <td>4.0</td>\n",
       "      <td>Single</td>\n",
       "      <td>Petrol</td>\n",
       "      <td>125.0</td>\n",
       "      <td>18</td>\n",
       "      <td>75000.0</td>\n",
       "    </tr>\n",
       "    <tr>\n",
       "      <th>286</th>\n",
       "      <td>287</td>\n",
       "      <td>Honda</td>\n",
       "      <td>Pleasure</td>\n",
       "      <td>2017</td>\n",
       "      <td>5.0</td>\n",
       "      <td>Single</td>\n",
       "      <td>Petrol</td>\n",
       "      <td>125.0</td>\n",
       "      <td>19</td>\n",
       "      <td>76500.0</td>\n",
       "    </tr>\n",
       "  </tbody>\n",
       "</table>\n",
       "<p>81 rows × 10 columns</p>\n",
       "</div>"
      ],
      "text/plain": [
       "     S.no Bike_company   Bike_model  Manufactured_year  Engine_warranty  \\\n",
       "0       1        Bajaj  Avenger 220               2020              5.0   \n",
       "3       4        Honda    Activa 3G               2020              5.0   \n",
       "6       7       Yamaha      Fascino               2018              5.0   \n",
       "9      10     Kawasaki        Ninja               2011              5.0   \n",
       "12     13      Banelli   Limperiale               2014             10.0   \n",
       "..    ...          ...          ...                ...              ...   \n",
       "282   283      22Kymco     Like 200               2020              5.0   \n",
       "283   284      22Kymco       X-Town               2020              5.0   \n",
       "284   285          TVS      Jupiter               2017              3.0   \n",
       "285   286       Yamaha      Fascino               2017              4.0   \n",
       "286   287        Honda     Pleasure               2017              5.0   \n",
       "\n",
       "    Engine_type    Fuel_type  CC(Cubic capacity) Fuel_Capacity     Price  \n",
       "0        Single       Petrol               220.0           10   113000.0  \n",
       "3        Single       Petrol               150.0           13    90000.0  \n",
       "6        Single       Petrol               150.0           16    65000.0  \n",
       "9        Single       Petrol               170.0           19    99999.0  \n",
       "12       Single       Petrol               220.0           22   130000.0  \n",
       "..          ...          ...                 ...           ...       ...  \n",
       "282      Single  Electricity               220.0           15    67989.0  \n",
       "283      Single  Electricity               235.0           16    69879.0  \n",
       "284      Single       Petrol               125.0           17    74500.0  \n",
       "285      Single       Petrol               125.0           18    75000.0  \n",
       "286      Single       Petrol               125.0           19    76500.0  \n",
       "\n",
       "[81 rows x 10 columns]"
      ]
     },
     "execution_count": 33,
     "metadata": {},
     "output_type": "execute_result"
    }
   ],
   "source": [
    "data[data.Engine_type.isin(['Single'])]"
   ]
  },
  {
   "cell_type": "code",
   "execution_count": 34,
   "id": "1ce540d9",
   "metadata": {},
   "outputs": [
    {
     "data": {
      "text/html": [
       "<div>\n",
       "<style scoped>\n",
       "    .dataframe tbody tr th:only-of-type {\n",
       "        vertical-align: middle;\n",
       "    }\n",
       "\n",
       "    .dataframe tbody tr th {\n",
       "        vertical-align: top;\n",
       "    }\n",
       "\n",
       "    .dataframe thead th {\n",
       "        text-align: right;\n",
       "    }\n",
       "</style>\n",
       "<table border=\"1\" class=\"dataframe\">\n",
       "  <thead>\n",
       "    <tr style=\"text-align: right;\">\n",
       "      <th></th>\n",
       "      <th>S.no</th>\n",
       "      <th>Bike_company</th>\n",
       "      <th>Bike_model</th>\n",
       "      <th>Manufactured_year</th>\n",
       "      <th>Engine_warranty</th>\n",
       "      <th>Engine_type</th>\n",
       "      <th>Fuel_type</th>\n",
       "      <th>CC(Cubic capacity)</th>\n",
       "      <th>Fuel_Capacity</th>\n",
       "      <th>Price</th>\n",
       "    </tr>\n",
       "  </thead>\n",
       "  <tbody>\n",
       "    <tr>\n",
       "      <th>0</th>\n",
       "      <td>1</td>\n",
       "      <td>Bajaj</td>\n",
       "      <td>Avenger 220</td>\n",
       "      <td>2020</td>\n",
       "      <td>5.0</td>\n",
       "      <td>Single</td>\n",
       "      <td>Petrol</td>\n",
       "      <td>220.0</td>\n",
       "      <td>10</td>\n",
       "      <td>113000.0</td>\n",
       "    </tr>\n",
       "    <tr>\n",
       "      <th>1</th>\n",
       "      <td>2</td>\n",
       "      <td>TVS</td>\n",
       "      <td>Apache RTR</td>\n",
       "      <td>2020</td>\n",
       "      <td>5.0</td>\n",
       "      <td>V-twin</td>\n",
       "      <td>Petrol</td>\n",
       "      <td>120.0</td>\n",
       "      <td>11</td>\n",
       "      <td>70000.0</td>\n",
       "    </tr>\n",
       "    <tr>\n",
       "      <th>2</th>\n",
       "      <td>3</td>\n",
       "      <td>Hero</td>\n",
       "      <td>Passion</td>\n",
       "      <td>2020</td>\n",
       "      <td>5.0</td>\n",
       "      <td>Boxer</td>\n",
       "      <td>Petrol</td>\n",
       "      <td>140.0</td>\n",
       "      <td>12</td>\n",
       "      <td>85000.0</td>\n",
       "    </tr>\n",
       "    <tr>\n",
       "      <th>3</th>\n",
       "      <td>4</td>\n",
       "      <td>Honda</td>\n",
       "      <td>Activa 3G</td>\n",
       "      <td>2020</td>\n",
       "      <td>5.0</td>\n",
       "      <td>Single</td>\n",
       "      <td>Petrol</td>\n",
       "      <td>150.0</td>\n",
       "      <td>13</td>\n",
       "      <td>90000.0</td>\n",
       "    </tr>\n",
       "    <tr>\n",
       "      <th>4</th>\n",
       "      <td>5</td>\n",
       "      <td>Suzuki</td>\n",
       "      <td>Access</td>\n",
       "      <td>2020</td>\n",
       "      <td>5.0</td>\n",
       "      <td>V-twin</td>\n",
       "      <td>Petrol</td>\n",
       "      <td>350.0</td>\n",
       "      <td>14</td>\n",
       "      <td>65000.0</td>\n",
       "    </tr>\n",
       "  </tbody>\n",
       "</table>\n",
       "</div>"
      ],
      "text/plain": [
       "   S.no Bike_company   Bike_model  Manufactured_year  Engine_warranty  \\\n",
       "0     1        Bajaj  Avenger 220               2020              5.0   \n",
       "1     2          TVS   Apache RTR               2020              5.0   \n",
       "2     3         Hero      Passion               2020              5.0   \n",
       "3     4        Honda    Activa 3G               2020              5.0   \n",
       "4     5       Suzuki       Access               2020              5.0   \n",
       "\n",
       "  Engine_type Fuel_type  CC(Cubic capacity) Fuel_Capacity     Price  \n",
       "0      Single    Petrol               220.0           10   113000.0  \n",
       "1      V-twin    Petrol               120.0           11    70000.0  \n",
       "2       Boxer    Petrol               140.0           12    85000.0  \n",
       "3      Single    Petrol               150.0           13    90000.0  \n",
       "4      V-twin    Petrol               350.0           14    65000.0  "
      ]
     },
     "execution_count": 34,
     "metadata": {},
     "output_type": "execute_result"
    }
   ],
   "source": [
    "data.head()"
   ]
  },
  {
   "cell_type": "code",
   "execution_count": null,
   "id": "266e5bb5",
   "metadata": {},
   "outputs": [],
   "source": []
  },
  {
   "cell_type": "code",
   "execution_count": 35,
   "id": "574661be",
   "metadata": {},
   "outputs": [
    {
     "data": {
      "text/plain": [
       "<Axes: xlabel='Bike_company'>"
      ]
     },
     "execution_count": 35,
     "metadata": {},
     "output_type": "execute_result"
    },
    {
     "data": {
      "image/png": "[encoded data removed]",
      "text/plain": [
       "<Figure size 640x480 with 1 Axes>"
      ]
     },
     "metadata": {},
     "output_type": "display_data"
    }
   ],
   "source": [
    "data.groupby('Bike_company')['Price'].mean().sort_values().plot(kind='bar')"
   ]
  },
  {
   "cell_type": "code",
   "execution_count": 36,
   "id": "4880d720",
   "metadata": {},
   "outputs": [
    {
     "data": {
      "text/html": [
       "<div>\n",
       "<style scoped>\n",
       "    .dataframe tbody tr th:only-of-type {\n",
       "        vertical-align: middle;\n",
       "    }\n",
       "\n",
       "    .dataframe tbody tr th {\n",
       "        vertical-align: top;\n",
       "    }\n",
       "\n",
       "    .dataframe thead th {\n",
       "        text-align: right;\n",
       "    }\n",
       "</style>\n",
       "<table border=\"1\" class=\"dataframe\">\n",
       "  <thead>\n",
       "    <tr style=\"text-align: right;\">\n",
       "      <th>Bike_company</th>\n",
       "      <th>22Kymco</th>\n",
       "      <th>Ather Energy</th>\n",
       "      <th>BMW</th>\n",
       "      <th>Bajaj</th>\n",
       "      <th>Banelli</th>\n",
       "      <th>Bgauss</th>\n",
       "      <th>CFMoto</th>\n",
       "      <th>Ducati</th>\n",
       "      <th>Harley Davidson</th>\n",
       "      <th>Hero</th>\n",
       "      <th>...</th>\n",
       "      <th>Li-ion Elektrik Solution</th>\n",
       "      <th>Mahindra</th>\n",
       "      <th>Odysse</th>\n",
       "      <th>Okinawa</th>\n",
       "      <th>Revolt Motors</th>\n",
       "      <th>Royal Enfield</th>\n",
       "      <th>Suzuki</th>\n",
       "      <th>TVS</th>\n",
       "      <th>Triumph</th>\n",
       "      <th>Yamaha</th>\n",
       "    </tr>\n",
       "  </thead>\n",
       "  <tbody>\n",
       "    <tr>\n",
       "      <th>Price</th>\n",
       "      <td>61785.0</td>\n",
       "      <td>71377.777778</td>\n",
       "      <td>492291.666667</td>\n",
       "      <td>205052.083333</td>\n",
       "      <td>377114.083333</td>\n",
       "      <td>82291.0</td>\n",
       "      <td>528081.090909</td>\n",
       "      <td>343327.368421</td>\n",
       "      <td>394817.818182</td>\n",
       "      <td>74944.157895</td>\n",
       "      <td>...</td>\n",
       "      <td>66790.909091</td>\n",
       "      <td>78799.352941</td>\n",
       "      <td>65516.5</td>\n",
       "      <td>71892.777778</td>\n",
       "      <td>400283.5</td>\n",
       "      <td>200599.5</td>\n",
       "      <td>317607.25</td>\n",
       "      <td>101312.5</td>\n",
       "      <td>613707.466667</td>\n",
       "      <td>151456.25</td>\n",
       "    </tr>\n",
       "  </tbody>\n",
       "</table>\n",
       "<p>1 rows × 25 columns</p>\n",
       "</div>"
      ],
      "text/plain": [
       "Bike_company  22Kymco  Ather Energy            BMW          Bajaj  \\\n",
       "Price         61785.0  71377.777778  492291.666667  205052.083333   \n",
       "\n",
       "Bike_company        Banelli   Bgauss         CFMoto         Ducati  \\\n",
       "Price         377114.083333  82291.0  528081.090909  343327.368421   \n",
       "\n",
       "Bike_company  Harley Davidson          Hero  ...  Li-ion Elektrik Solution  \\\n",
       "Price           394817.818182  74944.157895  ...              66790.909091   \n",
       "\n",
       "Bike_company      Mahindra   Odysse       Okinawa  Revolt Motors  \\\n",
       "Price         78799.352941  65516.5  71892.777778       400283.5   \n",
       "\n",
       "Bike_company  Royal Enfield     Suzuki       TVS        Triumph     Yamaha  \n",
       "Price              200599.5  317607.25  101312.5  613707.466667  151456.25  \n",
       "\n",
       "[1 rows x 25 columns]"
      ]
     },
     "execution_count": 36,
     "metadata": {},
     "output_type": "execute_result"
    }
   ],
   "source": [
    "pd.pivot_table(data,columns=['Bike_company'],values=['Price'],aggfunc=np.mean)"
   ]
  },
  {
   "cell_type": "code",
   "execution_count": 37,
   "id": "a810e3bd",
   "metadata": {},
   "outputs": [
    {
     "data": {
      "text/html": [
       "<div>\n",
       "<style scoped>\n",
       "    .dataframe tbody tr th:only-of-type {\n",
       "        vertical-align: middle;\n",
       "    }\n",
       "\n",
       "    .dataframe tbody tr th {\n",
       "        vertical-align: top;\n",
       "    }\n",
       "\n",
       "    .dataframe thead th {\n",
       "        text-align: right;\n",
       "    }\n",
       "</style>\n",
       "<table border=\"1\" class=\"dataframe\">\n",
       "  <thead>\n",
       "    <tr style=\"text-align: right;\">\n",
       "      <th></th>\n",
       "      <th>S.no</th>\n",
       "      <th>Bike_company</th>\n",
       "      <th>Bike_model</th>\n",
       "      <th>Manufactured_year</th>\n",
       "      <th>Engine_warranty</th>\n",
       "      <th>Engine_type</th>\n",
       "      <th>Fuel_type</th>\n",
       "      <th>CC(Cubic capacity)</th>\n",
       "      <th>Fuel_Capacity</th>\n",
       "      <th>Price</th>\n",
       "    </tr>\n",
       "  </thead>\n",
       "  <tbody>\n",
       "    <tr>\n",
       "      <th>0</th>\n",
       "      <td>1</td>\n",
       "      <td>Bajaj</td>\n",
       "      <td>Avenger 220</td>\n",
       "      <td>2020</td>\n",
       "      <td>5.0</td>\n",
       "      <td>Single</td>\n",
       "      <td>Petrol</td>\n",
       "      <td>220.0</td>\n",
       "      <td>10</td>\n",
       "      <td>113000.0</td>\n",
       "    </tr>\n",
       "    <tr>\n",
       "      <th>1</th>\n",
       "      <td>2</td>\n",
       "      <td>TVS</td>\n",
       "      <td>Apache RTR</td>\n",
       "      <td>2020</td>\n",
       "      <td>5.0</td>\n",
       "      <td>V-twin</td>\n",
       "      <td>Petrol</td>\n",
       "      <td>120.0</td>\n",
       "      <td>11</td>\n",
       "      <td>70000.0</td>\n",
       "    </tr>\n",
       "    <tr>\n",
       "      <th>2</th>\n",
       "      <td>3</td>\n",
       "      <td>Hero</td>\n",
       "      <td>Passion</td>\n",
       "      <td>2020</td>\n",
       "      <td>5.0</td>\n",
       "      <td>Boxer</td>\n",
       "      <td>Petrol</td>\n",
       "      <td>140.0</td>\n",
       "      <td>12</td>\n",
       "      <td>85000.0</td>\n",
       "    </tr>\n",
       "    <tr>\n",
       "      <th>3</th>\n",
       "      <td>4</td>\n",
       "      <td>Honda</td>\n",
       "      <td>Activa 3G</td>\n",
       "      <td>2020</td>\n",
       "      <td>5.0</td>\n",
       "      <td>Single</td>\n",
       "      <td>Petrol</td>\n",
       "      <td>150.0</td>\n",
       "      <td>13</td>\n",
       "      <td>90000.0</td>\n",
       "    </tr>\n",
       "    <tr>\n",
       "      <th>4</th>\n",
       "      <td>5</td>\n",
       "      <td>Suzuki</td>\n",
       "      <td>Access</td>\n",
       "      <td>2020</td>\n",
       "      <td>5.0</td>\n",
       "      <td>V-twin</td>\n",
       "      <td>Petrol</td>\n",
       "      <td>350.0</td>\n",
       "      <td>14</td>\n",
       "      <td>65000.0</td>\n",
       "    </tr>\n",
       "  </tbody>\n",
       "</table>\n",
       "</div>"
      ],
      "text/plain": [
       "   S.no Bike_company   Bike_model  Manufactured_year  Engine_warranty  \\\n",
       "0     1        Bajaj  Avenger 220               2020              5.0   \n",
       "1     2          TVS   Apache RTR               2020              5.0   \n",
       "2     3         Hero      Passion               2020              5.0   \n",
       "3     4        Honda    Activa 3G               2020              5.0   \n",
       "4     5       Suzuki       Access               2020              5.0   \n",
       "\n",
       "  Engine_type Fuel_type  CC(Cubic capacity) Fuel_Capacity     Price  \n",
       "0      Single    Petrol               220.0           10   113000.0  \n",
       "1      V-twin    Petrol               120.0           11    70000.0  \n",
       "2       Boxer    Petrol               140.0           12    85000.0  \n",
       "3      Single    Petrol               150.0           13    90000.0  \n",
       "4      V-twin    Petrol               350.0           14    65000.0  "
      ]
     },
     "execution_count": 37,
     "metadata": {},
     "output_type": "execute_result"
    }
   ],
   "source": [
    "data.head()"
   ]
  },
  {
   "cell_type": "code",
   "execution_count": 38,
   "id": "38f0c060",
   "metadata": {},
   "outputs": [],
   "source": [
    "#data['Manufactured_year']=pd.to_datetime(data['Manufactured_year'])"
   ]
  },
  {
   "cell_type": "code",
   "execution_count": 39,
   "id": "a62c607a",
   "metadata": {},
   "outputs": [
    {
     "name": "stdout",
     "output_type": "stream",
     "text": [
      "<class 'pandas.core.frame.DataFrame'>\n",
      "RangeIndex: 308 entries, 0 to 307\n",
      "Data columns (total 10 columns):\n",
      " #   Column              Non-Null Count  Dtype  \n",
      "---  ------              --------------  -----  \n",
      " 0   S.no                308 non-null    int64  \n",
      " 1   Bike_company        308 non-null    object \n",
      " 2   Bike_model          308 non-null    object \n",
      " 3   Manufactured_year   308 non-null    int64  \n",
      " 4   Engine_warranty     306 non-null    float64\n",
      " 5   Engine_type         308 non-null    object \n",
      " 6   Fuel_type           308 non-null    object \n",
      " 7   CC(Cubic capacity)  308 non-null    float64\n",
      " 8   Fuel_Capacity       307 non-null    object \n",
      " 9   Price               308 non-null    float64\n",
      "dtypes: float64(3), int64(2), object(5)\n",
      "memory usage: 24.2+ KB\n"
     ]
    }
   ],
   "source": [
    "data.info()"
   ]
  },
  {
   "cell_type": "code",
   "execution_count": 40,
   "id": "39cd9984",
   "metadata": {},
   "outputs": [
    {
     "data": {
      "text/plain": [
       "308"
      ]
     },
     "execution_count": 40,
     "metadata": {},
     "output_type": "execute_result"
    }
   ],
   "source": [
    "data['Fuel_Capacity'].isnull().count()"
   ]
  },
  {
   "cell_type": "code",
   "execution_count": 41,
   "id": "912b2f91",
   "metadata": {},
   "outputs": [
    {
     "name": "stdout",
     "output_type": "stream",
     "text": [
      "<class 'pandas.core.frame.DataFrame'>\n",
      "RangeIndex: 308 entries, 0 to 307\n",
      "Data columns (total 10 columns):\n",
      " #   Column              Non-Null Count  Dtype  \n",
      "---  ------              --------------  -----  \n",
      " 0   S.no                308 non-null    int64  \n",
      " 1   Bike_company        308 non-null    object \n",
      " 2   Bike_model          308 non-null    object \n",
      " 3   Manufactured_year   308 non-null    int64  \n",
      " 4   Engine_warranty     306 non-null    float64\n",
      " 5   Engine_type         308 non-null    object \n",
      " 6   Fuel_type           308 non-null    object \n",
      " 7   CC(Cubic capacity)  308 non-null    float64\n",
      " 8   Fuel_Capacity       307 non-null    object \n",
      " 9   Price               308 non-null    float64\n",
      "dtypes: float64(3), int64(2), object(5)\n",
      "memory usage: 24.2+ KB\n"
     ]
    }
   ],
   "source": [
    "data.info()"
   ]
  },
  {
   "cell_type": "code",
   "execution_count": 42,
   "id": "9b8d6026",
   "metadata": {},
   "outputs": [],
   "source": [
    "from sklearn.impute import SimpleImputer"
   ]
  },
  {
   "cell_type": "code",
   "execution_count": 43,
   "id": "ac8beb08",
   "metadata": {},
   "outputs": [
    {
     "data": {
      "text/plain": [
       "(308, 1)"
      ]
     },
     "execution_count": 43,
     "metadata": {},
     "output_type": "execute_result"
    }
   ],
   "source": [
    "column=data['Engine_warranty'].values.reshape(-1,1)\n",
    "column.shape"
   ]
  },
  {
   "cell_type": "code",
   "execution_count": 44,
   "id": "173f810c",
   "metadata": {},
   "outputs": [],
   "source": [
    "imputer=SimpleImputer(missing_values=np.nan,strategy='most_frequent')\n",
    "data['Engine_warranty']=imputer.fit_transform(column)"
   ]
  },
  {
   "cell_type": "code",
   "execution_count": 45,
   "id": "eb512481",
   "metadata": {},
   "outputs": [
    {
     "name": "stdout",
     "output_type": "stream",
     "text": [
      "<class 'pandas.core.frame.DataFrame'>\n",
      "RangeIndex: 308 entries, 0 to 307\n",
      "Data columns (total 10 columns):\n",
      " #   Column              Non-Null Count  Dtype  \n",
      "---  ------              --------------  -----  \n",
      " 0   S.no                308 non-null    int64  \n",
      " 1   Bike_company        308 non-null    object \n",
      " 2   Bike_model          308 non-null    object \n",
      " 3   Manufactured_year   308 non-null    int64  \n",
      " 4   Engine_warranty     308 non-null    float64\n",
      " 5   Engine_type         308 non-null    object \n",
      " 6   Fuel_type           308 non-null    object \n",
      " 7   CC(Cubic capacity)  308 non-null    float64\n",
      " 8   Fuel_Capacity       307 non-null    object \n",
      " 9   Price               308 non-null    float64\n",
      "dtypes: float64(3), int64(2), object(5)\n",
      "memory usage: 24.2+ KB\n"
     ]
    }
   ],
   "source": [
    "data.info()"
   ]
  },
  {
   "cell_type": "code",
   "execution_count": 46,
   "id": "c3492e67",
   "metadata": {},
   "outputs": [
    {
     "data": {
      "text/html": [
       "<div>\n",
       "<style scoped>\n",
       "    .dataframe tbody tr th:only-of-type {\n",
       "        vertical-align: middle;\n",
       "    }\n",
       "\n",
       "    .dataframe tbody tr th {\n",
       "        vertical-align: top;\n",
       "    }\n",
       "\n",
       "    .dataframe thead th {\n",
       "        text-align: right;\n",
       "    }\n",
       "</style>\n",
       "<table border=\"1\" class=\"dataframe\">\n",
       "  <thead>\n",
       "    <tr style=\"text-align: right;\">\n",
       "      <th></th>\n",
       "      <th>S.no</th>\n",
       "      <th>Bike_company</th>\n",
       "      <th>Bike_model</th>\n",
       "      <th>Manufactured_year</th>\n",
       "      <th>Engine_warranty</th>\n",
       "      <th>Engine_type</th>\n",
       "      <th>Fuel_type</th>\n",
       "      <th>CC(Cubic capacity)</th>\n",
       "      <th>Fuel_Capacity</th>\n",
       "      <th>Price</th>\n",
       "    </tr>\n",
       "  </thead>\n",
       "  <tbody>\n",
       "    <tr>\n",
       "      <th>0</th>\n",
       "      <td>1</td>\n",
       "      <td>Bajaj</td>\n",
       "      <td>Avenger 220</td>\n",
       "      <td>2020</td>\n",
       "      <td>5.0</td>\n",
       "      <td>Single</td>\n",
       "      <td>Petrol</td>\n",
       "      <td>220.0</td>\n",
       "      <td>10</td>\n",
       "      <td>113000.0</td>\n",
       "    </tr>\n",
       "    <tr>\n",
       "      <th>1</th>\n",
       "      <td>2</td>\n",
       "      <td>TVS</td>\n",
       "      <td>Apache RTR</td>\n",
       "      <td>2020</td>\n",
       "      <td>5.0</td>\n",
       "      <td>V-twin</td>\n",
       "      <td>Petrol</td>\n",
       "      <td>120.0</td>\n",
       "      <td>11</td>\n",
       "      <td>70000.0</td>\n",
       "    </tr>\n",
       "    <tr>\n",
       "      <th>2</th>\n",
       "      <td>3</td>\n",
       "      <td>Hero</td>\n",
       "      <td>Passion</td>\n",
       "      <td>2020</td>\n",
       "      <td>5.0</td>\n",
       "      <td>Boxer</td>\n",
       "      <td>Petrol</td>\n",
       "      <td>140.0</td>\n",
       "      <td>12</td>\n",
       "      <td>85000.0</td>\n",
       "    </tr>\n",
       "    <tr>\n",
       "      <th>3</th>\n",
       "      <td>4</td>\n",
       "      <td>Honda</td>\n",
       "      <td>Activa 3G</td>\n",
       "      <td>2020</td>\n",
       "      <td>5.0</td>\n",
       "      <td>Single</td>\n",
       "      <td>Petrol</td>\n",
       "      <td>150.0</td>\n",
       "      <td>13</td>\n",
       "      <td>90000.0</td>\n",
       "    </tr>\n",
       "    <tr>\n",
       "      <th>4</th>\n",
       "      <td>5</td>\n",
       "      <td>Suzuki</td>\n",
       "      <td>Access</td>\n",
       "      <td>2020</td>\n",
       "      <td>5.0</td>\n",
       "      <td>V-twin</td>\n",
       "      <td>Petrol</td>\n",
       "      <td>350.0</td>\n",
       "      <td>14</td>\n",
       "      <td>65000.0</td>\n",
       "    </tr>\n",
       "  </tbody>\n",
       "</table>\n",
       "</div>"
      ],
      "text/plain": [
       "   S.no Bike_company   Bike_model  Manufactured_year  Engine_warranty  \\\n",
       "0     1        Bajaj  Avenger 220               2020              5.0   \n",
       "1     2          TVS   Apache RTR               2020              5.0   \n",
       "2     3         Hero      Passion               2020              5.0   \n",
       "3     4        Honda    Activa 3G               2020              5.0   \n",
       "4     5       Suzuki       Access               2020              5.0   \n",
       "\n",
       "  Engine_type Fuel_type  CC(Cubic capacity) Fuel_Capacity     Price  \n",
       "0      Single    Petrol               220.0           10   113000.0  \n",
       "1      V-twin    Petrol               120.0           11    70000.0  \n",
       "2       Boxer    Petrol               140.0           12    85000.0  \n",
       "3      Single    Petrol               150.0           13    90000.0  \n",
       "4      V-twin    Petrol               350.0           14    65000.0  "
      ]
     },
     "execution_count": 46,
     "metadata": {},
     "output_type": "execute_result"
    }
   ],
   "source": [
    "data.head()"
   ]
  },
  {
   "cell_type": "code",
   "execution_count": 47,
   "id": "fdadcb32",
   "metadata": {},
   "outputs": [],
   "source": [
    "data.drop(columns=['S.no'],inplace=True)"
   ]
  },
  {
   "cell_type": "code",
   "execution_count": 48,
   "id": "9ceb1f78",
   "metadata": {},
   "outputs": [
    {
     "data": {
      "text/html": [
       "<div>\n",
       "<style scoped>\n",
       "    .dataframe tbody tr th:only-of-type {\n",
       "        vertical-align: middle;\n",
       "    }\n",
       "\n",
       "    .dataframe tbody tr th {\n",
       "        vertical-align: top;\n",
       "    }\n",
       "\n",
       "    .dataframe thead th {\n",
       "        text-align: right;\n",
       "    }\n",
       "</style>\n",
       "<table border=\"1\" class=\"dataframe\">\n",
       "  <thead>\n",
       "    <tr style=\"text-align: right;\">\n",
       "      <th></th>\n",
       "      <th>Bike_company</th>\n",
       "      <th>Bike_model</th>\n",
       "      <th>Manufactured_year</th>\n",
       "      <th>Engine_warranty</th>\n",
       "      <th>Engine_type</th>\n",
       "      <th>Fuel_type</th>\n",
       "      <th>CC(Cubic capacity)</th>\n",
       "      <th>Fuel_Capacity</th>\n",
       "      <th>Price</th>\n",
       "    </tr>\n",
       "  </thead>\n",
       "  <tbody>\n",
       "    <tr>\n",
       "      <th>0</th>\n",
       "      <td>Bajaj</td>\n",
       "      <td>Avenger 220</td>\n",
       "      <td>2020</td>\n",
       "      <td>5.0</td>\n",
       "      <td>Single</td>\n",
       "      <td>Petrol</td>\n",
       "      <td>220.0</td>\n",
       "      <td>10</td>\n",
       "      <td>113000.0</td>\n",
       "    </tr>\n",
       "    <tr>\n",
       "      <th>1</th>\n",
       "      <td>TVS</td>\n",
       "      <td>Apache RTR</td>\n",
       "      <td>2020</td>\n",
       "      <td>5.0</td>\n",
       "      <td>V-twin</td>\n",
       "      <td>Petrol</td>\n",
       "      <td>120.0</td>\n",
       "      <td>11</td>\n",
       "      <td>70000.0</td>\n",
       "    </tr>\n",
       "    <tr>\n",
       "      <th>2</th>\n",
       "      <td>Hero</td>\n",
       "      <td>Passion</td>\n",
       "      <td>2020</td>\n",
       "      <td>5.0</td>\n",
       "      <td>Boxer</td>\n",
       "      <td>Petrol</td>\n",
       "      <td>140.0</td>\n",
       "      <td>12</td>\n",
       "      <td>85000.0</td>\n",
       "    </tr>\n",
       "    <tr>\n",
       "      <th>3</th>\n",
       "      <td>Honda</td>\n",
       "      <td>Activa 3G</td>\n",
       "      <td>2020</td>\n",
       "      <td>5.0</td>\n",
       "      <td>Single</td>\n",
       "      <td>Petrol</td>\n",
       "      <td>150.0</td>\n",
       "      <td>13</td>\n",
       "      <td>90000.0</td>\n",
       "    </tr>\n",
       "    <tr>\n",
       "      <th>4</th>\n",
       "      <td>Suzuki</td>\n",
       "      <td>Access</td>\n",
       "      <td>2020</td>\n",
       "      <td>5.0</td>\n",
       "      <td>V-twin</td>\n",
       "      <td>Petrol</td>\n",
       "      <td>350.0</td>\n",
       "      <td>14</td>\n",
       "      <td>65000.0</td>\n",
       "    </tr>\n",
       "  </tbody>\n",
       "</table>\n",
       "</div>"
      ],
      "text/plain": [
       "  Bike_company   Bike_model  Manufactured_year  Engine_warranty Engine_type  \\\n",
       "0        Bajaj  Avenger 220               2020              5.0      Single   \n",
       "1          TVS   Apache RTR               2020              5.0      V-twin   \n",
       "2         Hero      Passion               2020              5.0       Boxer   \n",
       "3        Honda    Activa 3G               2020              5.0      Single   \n",
       "4       Suzuki       Access               2020              5.0      V-twin   \n",
       "\n",
       "  Fuel_type  CC(Cubic capacity) Fuel_Capacity     Price  \n",
       "0    Petrol               220.0           10   113000.0  \n",
       "1    Petrol               120.0           11    70000.0  \n",
       "2    Petrol               140.0           12    85000.0  \n",
       "3    Petrol               150.0           13    90000.0  \n",
       "4    Petrol               350.0           14    65000.0  "
      ]
     },
     "execution_count": 48,
     "metadata": {},
     "output_type": "execute_result"
    }
   ],
   "source": [
    "data.head()"
   ]
  },
  {
   "cell_type": "code",
   "execution_count": 49,
   "id": "9537cab6",
   "metadata": {},
   "outputs": [],
   "source": [
    "data['mean_price']=data['Price'].mean()"
   ]
  },
  {
   "cell_type": "code",
   "execution_count": 50,
   "id": "e8cde743",
   "metadata": {},
   "outputs": [
    {
     "data": {
      "text/plain": [
       "0    230670.980519\n",
       "1    230670.980519\n",
       "2    230670.980519\n",
       "3    230670.980519\n",
       "4    230670.980519\n",
       "Name: mean_price, dtype: float64"
      ]
     },
     "execution_count": 50,
     "metadata": {},
     "output_type": "execute_result"
    }
   ],
   "source": [
    "data['mean_price'].head()"
   ]
  },
  {
   "cell_type": "code",
   "execution_count": 51,
   "id": "0154b89d",
   "metadata": {},
   "outputs": [
    {
     "data": {
      "text/plain": [
       "<matplotlib.legend.Legend at 0x1ddd95bf690>"
      ]
     },
     "execution_count": 51,
     "metadata": {},
     "output_type": "execute_result"
    },
    {
     "data": {
      "image/png": "[encoded data removed]",
      "text/plain": [
       "<Figure size 640x480 with 1 Axes>"
      ]
     },
     "metadata": {},
     "output_type": "display_data"
    }
   ],
   "source": [
    "plt.figure(dpi=100)\n",
    "k=range(0,len(data))\n",
    "plt.scatter(k,data['Price'].sort_values(),color='r',label='Actual Price')\n",
    "plt.plot(k,data['mean_price'].sort_values(),color='g',label='mean sale')\n",
    "plt.xlabel('fitted points(Ascending)')\n",
    "plt.ylabel('Sale Price')\n",
    "plt.title('overall mean')\n",
    "plt.legend()"
   ]
  },
  {
   "cell_type": "code",
   "execution_count": 52,
   "id": "f3ed86c6",
   "metadata": {},
   "outputs": [
    {
     "data": {
      "text/plain": [
       "array(['Single', 'V-twin', 'Boxer', 'Two-Stroke', 'Dual Stroke',\n",
       "       'Oxidiser-Air inlet'], dtype=object)"
      ]
     },
     "execution_count": 52,
     "metadata": {},
     "output_type": "execute_result"
    }
   ],
   "source": [
    "data['Engine_type'].unique()"
   ]
  },
  {
   "cell_type": "code",
   "execution_count": 53,
   "id": "aabda4d6",
   "metadata": {},
   "outputs": [
    {
     "data": {
      "text/plain": [
       "<Axes: xlabel='Engine_type'>"
      ]
     },
     "execution_count": 53,
     "metadata": {},
     "output_type": "execute_result"
    },
    {
     "data": {
      "image/png": "[encoded data removed]",
      "text/plain": [
       "<Figure size 640x480 with 1 Axes>"
      ]
     },
     "metadata": {},
     "output_type": "display_data"
    }
   ],
   "source": [
    "data.groupby('Engine_type')['Price'].mean().sort_values().plot(kind='bar')"
   ]
  },
  {
   "cell_type": "code",
   "execution_count": 54,
   "id": "aca151a2",
   "metadata": {},
   "outputs": [],
   "source": [
    "#mapping={'Oxidiser-Air intent':'1','V-twin':'1','Single':'1','Boxer':'2','Two-Stroke':'2'}"
   ]
  },
  {
   "cell_type": "code",
   "execution_count": 55,
   "id": "57a7163f",
   "metadata": {},
   "outputs": [],
   "source": [
    "engine_mean=data.pivot_table(values='Price',columns='Engine_type',aggfunc=np.mean)\n"
   ]
  },
  {
   "cell_type": "code",
   "execution_count": 56,
   "id": "05e54694",
   "metadata": {},
   "outputs": [
    {
     "data": {
      "text/html": [
       "<div>\n",
       "<style scoped>\n",
       "    .dataframe tbody tr th:only-of-type {\n",
       "        vertical-align: middle;\n",
       "    }\n",
       "\n",
       "    .dataframe tbody tr th {\n",
       "        vertical-align: top;\n",
       "    }\n",
       "\n",
       "    .dataframe thead th {\n",
       "        text-align: right;\n",
       "    }\n",
       "</style>\n",
       "<table border=\"1\" class=\"dataframe\">\n",
       "  <thead>\n",
       "    <tr style=\"text-align: right;\">\n",
       "      <th>Engine_type</th>\n",
       "      <th>Boxer</th>\n",
       "      <th>Dual Stroke</th>\n",
       "      <th>Oxidiser-Air inlet</th>\n",
       "      <th>Single</th>\n",
       "      <th>Two-Stroke</th>\n",
       "      <th>V-twin</th>\n",
       "    </tr>\n",
       "  </thead>\n",
       "  <tbody>\n",
       "    <tr>\n",
       "      <th>Price</th>\n",
       "      <td>228651.979381</td>\n",
       "      <td>613707.466667</td>\n",
       "      <td>189856.714286</td>\n",
       "      <td>204933.506173</td>\n",
       "      <td>230971.296296</td>\n",
       "      <td>191320.641975</td>\n",
       "    </tr>\n",
       "  </tbody>\n",
       "</table>\n",
       "</div>"
      ],
      "text/plain": [
       "Engine_type          Boxer    Dual Stroke  Oxidiser-Air inlet         Single  \\\n",
       "Price        228651.979381  613707.466667       189856.714286  204933.506173   \n",
       "\n",
       "Engine_type     Two-Stroke         V-twin  \n",
       "Price        230971.296296  191320.641975  "
      ]
     },
     "execution_count": 56,
     "metadata": {},
     "output_type": "execute_result"
    }
   ],
   "source": [
    "engine_mean"
   ]
  },
  {
   "cell_type": "code",
   "execution_count": 57,
   "id": "281a04b1",
   "metadata": {},
   "outputs": [
    {
     "name": "stderr",
     "output_type": "stream",
     "text": [
      "C:\\Users\\Mahesh\\AppData\\Local\\Temp\\ipykernel_1716\\1840416416.py:3: SettingWithCopyWarning: \n",
      "A value is trying to be set on a copy of a slice from a DataFrame\n",
      "\n",
      "See the caveats in the documentation: https://pandas.pydata.org/pandas-docs/stable/user_guide/indexing.html#returning-a-view-versus-a-copy\n",
      "  data['Engine_means'][data['Engine_type']==i]=engine_mean[i][0]\n"
     ]
    },
    {
     "data": {
      "text/plain": [
       "0      204933.506173\n",
       "1      191320.641975\n",
       "2      228651.979381\n",
       "3      204933.506173\n",
       "4      191320.641975\n",
       "           ...      \n",
       "303    228651.979381\n",
       "304    228651.979381\n",
       "305    228651.979381\n",
       "306    228651.979381\n",
       "307    228651.979381\n",
       "Name: Engine_means, Length: 308, dtype: float64"
      ]
     },
     "execution_count": 57,
     "metadata": {},
     "output_type": "execute_result"
    }
   ],
   "source": [
    "data['Engine_means']=0\n",
    "for i in engine_mean.columns:\n",
    "    data['Engine_means'][data['Engine_type']==i]=engine_mean[i][0]\n",
    "data['Engine_means']"
   ]
  },
  {
   "cell_type": "code",
   "execution_count": 58,
   "id": "c7457492",
   "metadata": {},
   "outputs": [
    {
     "data": {
      "text/html": [
       "<div>\n",
       "<style scoped>\n",
       "    .dataframe tbody tr th:only-of-type {\n",
       "        vertical-align: middle;\n",
       "    }\n",
       "\n",
       "    .dataframe tbody tr th {\n",
       "        vertical-align: top;\n",
       "    }\n",
       "\n",
       "    .dataframe thead th {\n",
       "        text-align: right;\n",
       "    }\n",
       "</style>\n",
       "<table border=\"1\" class=\"dataframe\">\n",
       "  <thead>\n",
       "    <tr style=\"text-align: right;\">\n",
       "      <th></th>\n",
       "      <th>Bike_company</th>\n",
       "      <th>Bike_model</th>\n",
       "      <th>Manufactured_year</th>\n",
       "      <th>Engine_warranty</th>\n",
       "      <th>Engine_type</th>\n",
       "      <th>Fuel_type</th>\n",
       "      <th>CC(Cubic capacity)</th>\n",
       "      <th>Fuel_Capacity</th>\n",
       "      <th>Price</th>\n",
       "      <th>mean_price</th>\n",
       "      <th>Engine_means</th>\n",
       "    </tr>\n",
       "  </thead>\n",
       "  <tbody>\n",
       "    <tr>\n",
       "      <th>0</th>\n",
       "      <td>Bajaj</td>\n",
       "      <td>Avenger 220</td>\n",
       "      <td>2020</td>\n",
       "      <td>5.0</td>\n",
       "      <td>Single</td>\n",
       "      <td>Petrol</td>\n",
       "      <td>220.0</td>\n",
       "      <td>10</td>\n",
       "      <td>113000.0</td>\n",
       "      <td>230670.980519</td>\n",
       "      <td>204933.506173</td>\n",
       "    </tr>\n",
       "    <tr>\n",
       "      <th>1</th>\n",
       "      <td>TVS</td>\n",
       "      <td>Apache RTR</td>\n",
       "      <td>2020</td>\n",
       "      <td>5.0</td>\n",
       "      <td>V-twin</td>\n",
       "      <td>Petrol</td>\n",
       "      <td>120.0</td>\n",
       "      <td>11</td>\n",
       "      <td>70000.0</td>\n",
       "      <td>230670.980519</td>\n",
       "      <td>191320.641975</td>\n",
       "    </tr>\n",
       "    <tr>\n",
       "      <th>2</th>\n",
       "      <td>Hero</td>\n",
       "      <td>Passion</td>\n",
       "      <td>2020</td>\n",
       "      <td>5.0</td>\n",
       "      <td>Boxer</td>\n",
       "      <td>Petrol</td>\n",
       "      <td>140.0</td>\n",
       "      <td>12</td>\n",
       "      <td>85000.0</td>\n",
       "      <td>230670.980519</td>\n",
       "      <td>228651.979381</td>\n",
       "    </tr>\n",
       "    <tr>\n",
       "      <th>3</th>\n",
       "      <td>Honda</td>\n",
       "      <td>Activa 3G</td>\n",
       "      <td>2020</td>\n",
       "      <td>5.0</td>\n",
       "      <td>Single</td>\n",
       "      <td>Petrol</td>\n",
       "      <td>150.0</td>\n",
       "      <td>13</td>\n",
       "      <td>90000.0</td>\n",
       "      <td>230670.980519</td>\n",
       "      <td>204933.506173</td>\n",
       "    </tr>\n",
       "    <tr>\n",
       "      <th>4</th>\n",
       "      <td>Suzuki</td>\n",
       "      <td>Access</td>\n",
       "      <td>2020</td>\n",
       "      <td>5.0</td>\n",
       "      <td>V-twin</td>\n",
       "      <td>Petrol</td>\n",
       "      <td>350.0</td>\n",
       "      <td>14</td>\n",
       "      <td>65000.0</td>\n",
       "      <td>230670.980519</td>\n",
       "      <td>191320.641975</td>\n",
       "    </tr>\n",
       "  </tbody>\n",
       "</table>\n",
       "</div>"
      ],
      "text/plain": [
       "  Bike_company   Bike_model  Manufactured_year  Engine_warranty Engine_type  \\\n",
       "0        Bajaj  Avenger 220               2020              5.0      Single   \n",
       "1          TVS   Apache RTR               2020              5.0      V-twin   \n",
       "2         Hero      Passion               2020              5.0       Boxer   \n",
       "3        Honda    Activa 3G               2020              5.0      Single   \n",
       "4       Suzuki       Access               2020              5.0      V-twin   \n",
       "\n",
       "  Fuel_type  CC(Cubic capacity) Fuel_Capacity     Price     mean_price  \\\n",
       "0    Petrol               220.0           10   113000.0  230670.980519   \n",
       "1    Petrol               120.0           11    70000.0  230670.980519   \n",
       "2    Petrol               140.0           12    85000.0  230670.980519   \n",
       "3    Petrol               150.0           13    90000.0  230670.980519   \n",
       "4    Petrol               350.0           14    65000.0  230670.980519   \n",
       "\n",
       "    Engine_means  \n",
       "0  204933.506173  \n",
       "1  191320.641975  \n",
       "2  228651.979381  \n",
       "3  204933.506173  \n",
       "4  191320.641975  "
      ]
     },
     "execution_count": 58,
     "metadata": {},
     "output_type": "execute_result"
    }
   ],
   "source": [
    "data.head()"
   ]
  },
  {
   "cell_type": "code",
   "execution_count": 59,
   "id": "50f29450",
   "metadata": {},
   "outputs": [],
   "source": [
    "mean_diff=data['mean_price']-data['Price']"
   ]
  },
  {
   "cell_type": "code",
   "execution_count": 60,
   "id": "b1972718",
   "metadata": {},
   "outputs": [],
   "source": [
    "enigine_mean_diff=data['Engine_means']-data['Price']"
   ]
  },
  {
   "cell_type": "code",
   "execution_count": 61,
   "id": "f1376183",
   "metadata": {},
   "outputs": [
    {
     "data": {
      "text/plain": [
       "<matplotlib.legend.Legend at 0x1dddbd06350>"
      ]
     },
     "execution_count": 61,
     "metadata": {},
     "output_type": "execute_result"
    },
    {
     "data": {
      "image/png": "[encoded data removed]",
      "text/plain": [
       "<Figure size 1800x720 with 2 Axes>"
      ]
     },
     "metadata": {},
     "output_type": "display_data"
    }
   ],
   "source": [
    "k=range(0,len(data))\n",
    "l=[0 for i in range(len(data))]\n",
    "plt.figure(figsize=(15,6),dpi=120)\n",
    "plt.subplot(1,2,1)\n",
    "plt.scatter(k,mean_diff,color='r',label='Residual',s=2)\n",
    "plt.plot(k,l,color='g',label='mean Regression',linewidth=3)\n",
    "plt.xlabel(\"Fitted Points\")\n",
    "plt.ylabel(\"Residulas\")\n",
    "plt.title(\"Residual with respect to  mean\")\n",
    "plt.legend()\n",
    "\n",
    "\n",
    "plt.subplot(1,2,2)\n",
    "plt.scatter(k,enigine_mean_diff,color='r',label='Residual',s=2)\n",
    "plt.plot(k,l,color='g',label='mean Regression',linewidth=3)\n",
    "plt.xlabel(\"Fitted Points\")\n",
    "plt.ylabel(\"Residulas\")\n",
    "plt.title(\"Residual with respect to engine mean\")\n",
    "plt.legend()"
   ]
  },
  {
   "cell_type": "code",
   "execution_count": null,
   "id": "bc77732c",
   "metadata": {},
   "outputs": [],
   "source": []
  },
  {
   "cell_type": "code",
   "execution_count": 62,
   "id": "be190610",
   "metadata": {},
   "outputs": [
    {
     "data": {
      "text/plain": [
       "(308, 308, 308, 308)"
      ]
     },
     "execution_count": 62,
     "metadata": {},
     "output_type": "execute_result"
    }
   ],
   "source": [
    "Y=data[\"Price\"]\n",
    "Y_hat1=data[\"mean_price\"]\n",
    "Y_hat2=data[\"Engine_means\"]\n",
    "n=len(data)\n",
    "len(Y),len(Y_hat1),len(Y_hat2),n"
   ]
  },
  {
   "cell_type": "code",
   "execution_count": 63,
   "id": "b54179a8",
   "metadata": {},
   "outputs": [],
   "source": [
    "from sklearn.metrics import mean_absolute_error as msa"
   ]
  },
  {
   "cell_type": "code",
   "execution_count": 64,
   "id": "d49f1051",
   "metadata": {},
   "outputs": [
    {
     "data": {
      "text/plain": [
       "180324.35680553215"
      ]
     },
     "execution_count": 64,
     "metadata": {},
     "output_type": "execute_result"
    }
   ],
   "source": [
    "cost_mean=msa(Y_hat1,Y)\n",
    "cost_mean"
   ]
  },
  {
   "cell_type": "code",
   "execution_count": 65,
   "id": "6f611ed1",
   "metadata": {},
   "outputs": [
    {
     "data": {
      "text/plain": [
       "160713.42471856042"
      ]
     },
     "execution_count": 65,
     "metadata": {},
     "output_type": "execute_result"
    }
   ],
   "source": [
    "cost_eng=msa(Y_hat2,Y)\n",
    "cost_eng"
   ]
  },
  {
   "cell_type": "code",
   "execution_count": 66,
   "id": "0fa9518c",
   "metadata": {},
   "outputs": [],
   "source": [
    "from sklearn.metrics import mean_squared_error as mse"
   ]
  },
  {
   "cell_type": "code",
   "execution_count": 67,
   "id": "e0374229",
   "metadata": {},
   "outputs": [
    {
     "data": {
      "text/plain": [
       "48841269571.50611"
      ]
     },
     "execution_count": 67,
     "metadata": {},
     "output_type": "execute_result"
    }
   ],
   "source": [
    "mse_mean=mse(Y_hat1,Y)\n",
    "mse_mean"
   ]
  },
  {
   "cell_type": "code",
   "execution_count": 68,
   "id": "7cbdb08e",
   "metadata": {},
   "outputs": [
    {
     "data": {
      "text/plain": [
       "41075383455.43381"
      ]
     },
     "execution_count": 68,
     "metadata": {},
     "output_type": "execute_result"
    }
   ],
   "source": [
    "mse_model=mse(Y_hat2,Y)\n",
    "mse_model"
   ]
  },
  {
   "cell_type": "code",
   "execution_count": 69,
   "id": "f839d428",
   "metadata": {},
   "outputs": [],
   "source": [
    "R2=1-(mse_model/mse_mean)"
   ]
  },
  {
   "cell_type": "code",
   "execution_count": 70,
   "id": "0d6c5d0e",
   "metadata": {},
   "outputs": [
    {
     "data": {
      "text/plain": [
       "0.15900254404121605"
      ]
     },
     "execution_count": 70,
     "metadata": {},
     "output_type": "execute_result"
    }
   ],
   "source": [
    "R2"
   ]
  },
  {
   "cell_type": "code",
   "execution_count": 71,
   "id": "d77de12c",
   "metadata": {},
   "outputs": [
    {
     "name": "stdout",
     "output_type": "stream",
     "text": [
      "<class 'pandas.core.frame.DataFrame'>\n",
      "RangeIndex: 308 entries, 0 to 307\n",
      "Data columns (total 11 columns):\n",
      " #   Column              Non-Null Count  Dtype  \n",
      "---  ------              --------------  -----  \n",
      " 0   Bike_company        308 non-null    object \n",
      " 1   Bike_model          308 non-null    object \n",
      " 2   Manufactured_year   308 non-null    int64  \n",
      " 3   Engine_warranty     308 non-null    float64\n",
      " 4   Engine_type         308 non-null    object \n",
      " 5   Fuel_type           308 non-null    object \n",
      " 6   CC(Cubic capacity)  308 non-null    float64\n",
      " 7   Fuel_Capacity       307 non-null    object \n",
      " 8   Price               308 non-null    float64\n",
      " 9   mean_price          308 non-null    float64\n",
      " 10  Engine_means        308 non-null    float64\n",
      "dtypes: float64(5), int64(1), object(5)\n",
      "memory usage: 26.6+ KB\n"
     ]
    }
   ],
   "source": [
    "data.info()"
   ]
  },
  {
   "cell_type": "code",
   "execution_count": 72,
   "id": "744679db",
   "metadata": {},
   "outputs": [
    {
     "data": {
      "text/html": [
       "<div>\n",
       "<style scoped>\n",
       "    .dataframe tbody tr th:only-of-type {\n",
       "        vertical-align: middle;\n",
       "    }\n",
       "\n",
       "    .dataframe tbody tr th {\n",
       "        vertical-align: top;\n",
       "    }\n",
       "\n",
       "    .dataframe thead th {\n",
       "        text-align: right;\n",
       "    }\n",
       "</style>\n",
       "<table border=\"1\" class=\"dataframe\">\n",
       "  <thead>\n",
       "    <tr style=\"text-align: right;\">\n",
       "      <th></th>\n",
       "      <th>Bike_company</th>\n",
       "      <th>Bike_model</th>\n",
       "      <th>Manufactured_year</th>\n",
       "      <th>Engine_warranty</th>\n",
       "      <th>Engine_type</th>\n",
       "      <th>Fuel_type</th>\n",
       "      <th>CC(Cubic capacity)</th>\n",
       "      <th>Fuel_Capacity</th>\n",
       "      <th>Price</th>\n",
       "      <th>mean_price</th>\n",
       "      <th>Engine_means</th>\n",
       "    </tr>\n",
       "  </thead>\n",
       "  <tbody>\n",
       "    <tr>\n",
       "      <th>0</th>\n",
       "      <td>Bajaj</td>\n",
       "      <td>Avenger 220</td>\n",
       "      <td>2020</td>\n",
       "      <td>5.0</td>\n",
       "      <td>Single</td>\n",
       "      <td>Petrol</td>\n",
       "      <td>220.0</td>\n",
       "      <td>10</td>\n",
       "      <td>113000.0</td>\n",
       "      <td>230670.980519</td>\n",
       "      <td>204933.506173</td>\n",
       "    </tr>\n",
       "    <tr>\n",
       "      <th>1</th>\n",
       "      <td>TVS</td>\n",
       "      <td>Apache RTR</td>\n",
       "      <td>2020</td>\n",
       "      <td>5.0</td>\n",
       "      <td>V-twin</td>\n",
       "      <td>Petrol</td>\n",
       "      <td>120.0</td>\n",
       "      <td>11</td>\n",
       "      <td>70000.0</td>\n",
       "      <td>230670.980519</td>\n",
       "      <td>191320.641975</td>\n",
       "    </tr>\n",
       "    <tr>\n",
       "      <th>2</th>\n",
       "      <td>Hero</td>\n",
       "      <td>Passion</td>\n",
       "      <td>2020</td>\n",
       "      <td>5.0</td>\n",
       "      <td>Boxer</td>\n",
       "      <td>Petrol</td>\n",
       "      <td>140.0</td>\n",
       "      <td>12</td>\n",
       "      <td>85000.0</td>\n",
       "      <td>230670.980519</td>\n",
       "      <td>228651.979381</td>\n",
       "    </tr>\n",
       "    <tr>\n",
       "      <th>3</th>\n",
       "      <td>Honda</td>\n",
       "      <td>Activa 3G</td>\n",
       "      <td>2020</td>\n",
       "      <td>5.0</td>\n",
       "      <td>Single</td>\n",
       "      <td>Petrol</td>\n",
       "      <td>150.0</td>\n",
       "      <td>13</td>\n",
       "      <td>90000.0</td>\n",
       "      <td>230670.980519</td>\n",
       "      <td>204933.506173</td>\n",
       "    </tr>\n",
       "    <tr>\n",
       "      <th>4</th>\n",
       "      <td>Suzuki</td>\n",
       "      <td>Access</td>\n",
       "      <td>2020</td>\n",
       "      <td>5.0</td>\n",
       "      <td>V-twin</td>\n",
       "      <td>Petrol</td>\n",
       "      <td>350.0</td>\n",
       "      <td>14</td>\n",
       "      <td>65000.0</td>\n",
       "      <td>230670.980519</td>\n",
       "      <td>191320.641975</td>\n",
       "    </tr>\n",
       "  </tbody>\n",
       "</table>\n",
       "</div>"
      ],
      "text/plain": [
       "  Bike_company   Bike_model  Manufactured_year  Engine_warranty Engine_type  \\\n",
       "0        Bajaj  Avenger 220               2020              5.0      Single   \n",
       "1          TVS   Apache RTR               2020              5.0      V-twin   \n",
       "2         Hero      Passion               2020              5.0       Boxer   \n",
       "3        Honda    Activa 3G               2020              5.0      Single   \n",
       "4       Suzuki       Access               2020              5.0      V-twin   \n",
       "\n",
       "  Fuel_type  CC(Cubic capacity) Fuel_Capacity     Price     mean_price  \\\n",
       "0    Petrol               220.0           10   113000.0  230670.980519   \n",
       "1    Petrol               120.0           11    70000.0  230670.980519   \n",
       "2    Petrol               140.0           12    85000.0  230670.980519   \n",
       "3    Petrol               150.0           13    90000.0  230670.980519   \n",
       "4    Petrol               350.0           14    65000.0  230670.980519   \n",
       "\n",
       "    Engine_means  \n",
       "0  204933.506173  \n",
       "1  191320.641975  \n",
       "2  228651.979381  \n",
       "3  204933.506173  \n",
       "4  191320.641975  "
      ]
     },
     "execution_count": 72,
     "metadata": {},
     "output_type": "execute_result"
    }
   ],
   "source": [
    "data.head()"
   ]
  },
  {
   "cell_type": "code",
   "execution_count": 74,
   "id": "44192380",
   "metadata": {},
   "outputs": [],
   "source": [
    "data.to_csv('updated_bike',index=False)"
   ]
  },
  {
   "cell_type": "code",
   "execution_count": 80,
   "id": "c6e4abc5",
   "metadata": {},
   "outputs": [],
   "source": [
    "data.drop(columns=['mean_price','Engine_means'],inplace=True)"
   ]
  },
  {
   "cell_type": "code",
   "execution_count": 81,
   "id": "3e9fd7c0",
   "metadata": {},
   "outputs": [],
   "source": [
    "data.to_csv('bike_imp',index=False)"
   ]
  },
  {
   "cell_type": "code",
   "execution_count": 82,
   "id": "ce3ab7be",
   "metadata": {},
   "outputs": [],
   "source": [
    "data=pd.read_csv('bike_imp')"
   ]
  },
  {
   "cell_type": "code",
   "execution_count": 83,
   "id": "47d16180",
   "metadata": {},
   "outputs": [
    {
     "data": {
      "text/html": [
       "<div>\n",
       "<style scoped>\n",
       "    .dataframe tbody tr th:only-of-type {\n",
       "        vertical-align: middle;\n",
       "    }\n",
       "\n",
       "    .dataframe tbody tr th {\n",
       "        vertical-align: top;\n",
       "    }\n",
       "\n",
       "    .dataframe thead th {\n",
       "        text-align: right;\n",
       "    }\n",
       "</style>\n",
       "<table border=\"1\" class=\"dataframe\">\n",
       "  <thead>\n",
       "    <tr style=\"text-align: right;\">\n",
       "      <th></th>\n",
       "      <th>Bike_company</th>\n",
       "      <th>Bike_model</th>\n",
       "      <th>Manufactured_year</th>\n",
       "      <th>Engine_warranty</th>\n",
       "      <th>Engine_type</th>\n",
       "      <th>Fuel_type</th>\n",
       "      <th>CC(Cubic capacity)</th>\n",
       "      <th>Fuel_Capacity</th>\n",
       "      <th>Price</th>\n",
       "    </tr>\n",
       "  </thead>\n",
       "  <tbody>\n",
       "    <tr>\n",
       "      <th>0</th>\n",
       "      <td>Bajaj</td>\n",
       "      <td>Avenger 220</td>\n",
       "      <td>2020</td>\n",
       "      <td>5.0</td>\n",
       "      <td>Single</td>\n",
       "      <td>Petrol</td>\n",
       "      <td>220.0</td>\n",
       "      <td>10</td>\n",
       "      <td>113000.0</td>\n",
       "    </tr>\n",
       "    <tr>\n",
       "      <th>1</th>\n",
       "      <td>TVS</td>\n",
       "      <td>Apache RTR</td>\n",
       "      <td>2020</td>\n",
       "      <td>5.0</td>\n",
       "      <td>V-twin</td>\n",
       "      <td>Petrol</td>\n",
       "      <td>120.0</td>\n",
       "      <td>11</td>\n",
       "      <td>70000.0</td>\n",
       "    </tr>\n",
       "    <tr>\n",
       "      <th>2</th>\n",
       "      <td>Hero</td>\n",
       "      <td>Passion</td>\n",
       "      <td>2020</td>\n",
       "      <td>5.0</td>\n",
       "      <td>Boxer</td>\n",
       "      <td>Petrol</td>\n",
       "      <td>140.0</td>\n",
       "      <td>12</td>\n",
       "      <td>85000.0</td>\n",
       "    </tr>\n",
       "    <tr>\n",
       "      <th>3</th>\n",
       "      <td>Honda</td>\n",
       "      <td>Activa 3G</td>\n",
       "      <td>2020</td>\n",
       "      <td>5.0</td>\n",
       "      <td>Single</td>\n",
       "      <td>Petrol</td>\n",
       "      <td>150.0</td>\n",
       "      <td>13</td>\n",
       "      <td>90000.0</td>\n",
       "    </tr>\n",
       "    <tr>\n",
       "      <th>4</th>\n",
       "      <td>Suzuki</td>\n",
       "      <td>Access</td>\n",
       "      <td>2020</td>\n",
       "      <td>5.0</td>\n",
       "      <td>V-twin</td>\n",
       "      <td>Petrol</td>\n",
       "      <td>350.0</td>\n",
       "      <td>14</td>\n",
       "      <td>65000.0</td>\n",
       "    </tr>\n",
       "  </tbody>\n",
       "</table>\n",
       "</div>"
      ],
      "text/plain": [
       "  Bike_company   Bike_model  Manufactured_year  Engine_warranty Engine_type  \\\n",
       "0        Bajaj  Avenger 220               2020              5.0      Single   \n",
       "1          TVS   Apache RTR               2020              5.0      V-twin   \n",
       "2         Hero      Passion               2020              5.0       Boxer   \n",
       "3        Honda    Activa 3G               2020              5.0      Single   \n",
       "4       Suzuki       Access               2020              5.0      V-twin   \n",
       "\n",
       "  Fuel_type  CC(Cubic capacity) Fuel_Capacity     Price  \n",
       "0    Petrol               220.0           10   113000.0  \n",
       "1    Petrol               120.0           11    70000.0  \n",
       "2    Petrol               140.0           12    85000.0  \n",
       "3    Petrol               150.0           13    90000.0  \n",
       "4    Petrol               350.0           14    65000.0  "
      ]
     },
     "execution_count": 83,
     "metadata": {},
     "output_type": "execute_result"
    }
   ],
   "source": [
    "data.head()"
   ]
  },
  {
   "cell_type": "code",
   "execution_count": 85,
   "id": "dc920899",
   "metadata": {},
   "outputs": [],
   "source": [
    "data.drop(columns=['Bike_company','Bike_model'],inplace=True)"
   ]
  },
  {
   "cell_type": "code",
   "execution_count": 86,
   "id": "dbd3d43f",
   "metadata": {},
   "outputs": [
    {
     "data": {
      "text/html": [
       "<div>\n",
       "<style scoped>\n",
       "    .dataframe tbody tr th:only-of-type {\n",
       "        vertical-align: middle;\n",
       "    }\n",
       "\n",
       "    .dataframe tbody tr th {\n",
       "        vertical-align: top;\n",
       "    }\n",
       "\n",
       "    .dataframe thead th {\n",
       "        text-align: right;\n",
       "    }\n",
       "</style>\n",
       "<table border=\"1\" class=\"dataframe\">\n",
       "  <thead>\n",
       "    <tr style=\"text-align: right;\">\n",
       "      <th></th>\n",
       "      <th>Manufactured_year</th>\n",
       "      <th>Engine_warranty</th>\n",
       "      <th>Engine_type</th>\n",
       "      <th>Fuel_type</th>\n",
       "      <th>CC(Cubic capacity)</th>\n",
       "      <th>Fuel_Capacity</th>\n",
       "      <th>Price</th>\n",
       "    </tr>\n",
       "  </thead>\n",
       "  <tbody>\n",
       "    <tr>\n",
       "      <th>0</th>\n",
       "      <td>2020</td>\n",
       "      <td>5.0</td>\n",
       "      <td>Single</td>\n",
       "      <td>Petrol</td>\n",
       "      <td>220.0</td>\n",
       "      <td>10</td>\n",
       "      <td>113000.0</td>\n",
       "    </tr>\n",
       "    <tr>\n",
       "      <th>1</th>\n",
       "      <td>2020</td>\n",
       "      <td>5.0</td>\n",
       "      <td>V-twin</td>\n",
       "      <td>Petrol</td>\n",
       "      <td>120.0</td>\n",
       "      <td>11</td>\n",
       "      <td>70000.0</td>\n",
       "    </tr>\n",
       "    <tr>\n",
       "      <th>2</th>\n",
       "      <td>2020</td>\n",
       "      <td>5.0</td>\n",
       "      <td>Boxer</td>\n",
       "      <td>Petrol</td>\n",
       "      <td>140.0</td>\n",
       "      <td>12</td>\n",
       "      <td>85000.0</td>\n",
       "    </tr>\n",
       "    <tr>\n",
       "      <th>3</th>\n",
       "      <td>2020</td>\n",
       "      <td>5.0</td>\n",
       "      <td>Single</td>\n",
       "      <td>Petrol</td>\n",
       "      <td>150.0</td>\n",
       "      <td>13</td>\n",
       "      <td>90000.0</td>\n",
       "    </tr>\n",
       "    <tr>\n",
       "      <th>4</th>\n",
       "      <td>2020</td>\n",
       "      <td>5.0</td>\n",
       "      <td>V-twin</td>\n",
       "      <td>Petrol</td>\n",
       "      <td>350.0</td>\n",
       "      <td>14</td>\n",
       "      <td>65000.0</td>\n",
       "    </tr>\n",
       "  </tbody>\n",
       "</table>\n",
       "</div>"
      ],
      "text/plain": [
       "   Manufactured_year  Engine_warranty Engine_type Fuel_type  \\\n",
       "0               2020              5.0      Single    Petrol   \n",
       "1               2020              5.0      V-twin    Petrol   \n",
       "2               2020              5.0       Boxer    Petrol   \n",
       "3               2020              5.0      Single    Petrol   \n",
       "4               2020              5.0      V-twin    Petrol   \n",
       "\n",
       "   CC(Cubic capacity) Fuel_Capacity     Price  \n",
       "0               220.0           10   113000.0  \n",
       "1               120.0           11    70000.0  \n",
       "2               140.0           12    85000.0  \n",
       "3               150.0           13    90000.0  \n",
       "4               350.0           14    65000.0  "
      ]
     },
     "execution_count": 86,
     "metadata": {},
     "output_type": "execute_result"
    }
   ],
   "source": [
    "data.head()"
   ]
  },
  {
   "cell_type": "code",
   "execution_count": 87,
   "id": "daa5ccfa",
   "metadata": {},
   "outputs": [],
   "source": [
    "mapping={'Oxidiser-Air intent':'1','V-twin':'1','Single':'1','Boxer':'2','Two-Stroke':'2'}"
   ]
  },
  {
   "cell_type": "code",
   "execution_count": 88,
   "id": "f777dc7e",
   "metadata": {},
   "outputs": [],
   "source": [
    "data['Engine_type']=data['Engine_type'].map(mapping)"
   ]
  },
  {
   "cell_type": "code",
   "execution_count": 89,
   "id": "596edf25",
   "metadata": {},
   "outputs": [
    {
     "data": {
      "text/html": [
       "<div>\n",
       "<style scoped>\n",
       "    .dataframe tbody tr th:only-of-type {\n",
       "        vertical-align: middle;\n",
       "    }\n",
       "\n",
       "    .dataframe tbody tr th {\n",
       "        vertical-align: top;\n",
       "    }\n",
       "\n",
       "    .dataframe thead th {\n",
       "        text-align: right;\n",
       "    }\n",
       "</style>\n",
       "<table border=\"1\" class=\"dataframe\">\n",
       "  <thead>\n",
       "    <tr style=\"text-align: right;\">\n",
       "      <th></th>\n",
       "      <th>Manufactured_year</th>\n",
       "      <th>Engine_warranty</th>\n",
       "      <th>Engine_type</th>\n",
       "      <th>Fuel_type</th>\n",
       "      <th>CC(Cubic capacity)</th>\n",
       "      <th>Fuel_Capacity</th>\n",
       "      <th>Price</th>\n",
       "    </tr>\n",
       "  </thead>\n",
       "  <tbody>\n",
       "    <tr>\n",
       "      <th>0</th>\n",
       "      <td>2020</td>\n",
       "      <td>5.0</td>\n",
       "      <td>1</td>\n",
       "      <td>Petrol</td>\n",
       "      <td>220.0</td>\n",
       "      <td>10</td>\n",
       "      <td>113000.0</td>\n",
       "    </tr>\n",
       "    <tr>\n",
       "      <th>1</th>\n",
       "      <td>2020</td>\n",
       "      <td>5.0</td>\n",
       "      <td>1</td>\n",
       "      <td>Petrol</td>\n",
       "      <td>120.0</td>\n",
       "      <td>11</td>\n",
       "      <td>70000.0</td>\n",
       "    </tr>\n",
       "    <tr>\n",
       "      <th>2</th>\n",
       "      <td>2020</td>\n",
       "      <td>5.0</td>\n",
       "      <td>2</td>\n",
       "      <td>Petrol</td>\n",
       "      <td>140.0</td>\n",
       "      <td>12</td>\n",
       "      <td>85000.0</td>\n",
       "    </tr>\n",
       "    <tr>\n",
       "      <th>3</th>\n",
       "      <td>2020</td>\n",
       "      <td>5.0</td>\n",
       "      <td>1</td>\n",
       "      <td>Petrol</td>\n",
       "      <td>150.0</td>\n",
       "      <td>13</td>\n",
       "      <td>90000.0</td>\n",
       "    </tr>\n",
       "    <tr>\n",
       "      <th>4</th>\n",
       "      <td>2020</td>\n",
       "      <td>5.0</td>\n",
       "      <td>1</td>\n",
       "      <td>Petrol</td>\n",
       "      <td>350.0</td>\n",
       "      <td>14</td>\n",
       "      <td>65000.0</td>\n",
       "    </tr>\n",
       "  </tbody>\n",
       "</table>\n",
       "</div>"
      ],
      "text/plain": [
       "   Manufactured_year  Engine_warranty Engine_type Fuel_type  \\\n",
       "0               2020              5.0           1    Petrol   \n",
       "1               2020              5.0           1    Petrol   \n",
       "2               2020              5.0           2    Petrol   \n",
       "3               2020              5.0           1    Petrol   \n",
       "4               2020              5.0           1    Petrol   \n",
       "\n",
       "   CC(Cubic capacity) Fuel_Capacity     Price  \n",
       "0               220.0           10   113000.0  \n",
       "1               120.0           11    70000.0  \n",
       "2               140.0           12    85000.0  \n",
       "3               150.0           13    90000.0  \n",
       "4               350.0           14    65000.0  "
      ]
     },
     "execution_count": 89,
     "metadata": {},
     "output_type": "execute_result"
    }
   ],
   "source": [
    "data.head()"
   ]
  },
  {
   "cell_type": "code",
   "execution_count": 90,
   "id": "a5d22910",
   "metadata": {},
   "outputs": [
    {
     "data": {
      "text/plain": [
       "0      1.0\n",
       "1      1.0\n",
       "2      2.0\n",
       "3      1.0\n",
       "4      1.0\n",
       "      ... \n",
       "303    2.0\n",
       "304    2.0\n",
       "305    2.0\n",
       "306    2.0\n",
       "307    2.0\n",
       "Name: Engine_type, Length: 308, dtype: float64"
      ]
     },
     "execution_count": 90,
     "metadata": {},
     "output_type": "execute_result"
    }
   ],
   "source": [
    "data['Engine_type'].astype('float')"
   ]
  },
  {
   "cell_type": "code",
   "execution_count": 91,
   "id": "3da5b4d4",
   "metadata": {},
   "outputs": [
    {
     "data": {
      "text/html": [
       "<div>\n",
       "<style scoped>\n",
       "    .dataframe tbody tr th:only-of-type {\n",
       "        vertical-align: middle;\n",
       "    }\n",
       "\n",
       "    .dataframe tbody tr th {\n",
       "        vertical-align: top;\n",
       "    }\n",
       "\n",
       "    .dataframe thead th {\n",
       "        text-align: right;\n",
       "    }\n",
       "</style>\n",
       "<table border=\"1\" class=\"dataframe\">\n",
       "  <thead>\n",
       "    <tr style=\"text-align: right;\">\n",
       "      <th></th>\n",
       "      <th>Manufactured_year</th>\n",
       "      <th>Engine_warranty</th>\n",
       "      <th>Engine_type</th>\n",
       "      <th>Fuel_type</th>\n",
       "      <th>CC(Cubic capacity)</th>\n",
       "      <th>Fuel_Capacity</th>\n",
       "      <th>Price</th>\n",
       "    </tr>\n",
       "  </thead>\n",
       "  <tbody>\n",
       "    <tr>\n",
       "      <th>0</th>\n",
       "      <td>2020</td>\n",
       "      <td>5.0</td>\n",
       "      <td>1</td>\n",
       "      <td>Petrol</td>\n",
       "      <td>220.0</td>\n",
       "      <td>10</td>\n",
       "      <td>113000.0</td>\n",
       "    </tr>\n",
       "    <tr>\n",
       "      <th>1</th>\n",
       "      <td>2020</td>\n",
       "      <td>5.0</td>\n",
       "      <td>1</td>\n",
       "      <td>Petrol</td>\n",
       "      <td>120.0</td>\n",
       "      <td>11</td>\n",
       "      <td>70000.0</td>\n",
       "    </tr>\n",
       "    <tr>\n",
       "      <th>2</th>\n",
       "      <td>2020</td>\n",
       "      <td>5.0</td>\n",
       "      <td>2</td>\n",
       "      <td>Petrol</td>\n",
       "      <td>140.0</td>\n",
       "      <td>12</td>\n",
       "      <td>85000.0</td>\n",
       "    </tr>\n",
       "    <tr>\n",
       "      <th>3</th>\n",
       "      <td>2020</td>\n",
       "      <td>5.0</td>\n",
       "      <td>1</td>\n",
       "      <td>Petrol</td>\n",
       "      <td>150.0</td>\n",
       "      <td>13</td>\n",
       "      <td>90000.0</td>\n",
       "    </tr>\n",
       "    <tr>\n",
       "      <th>4</th>\n",
       "      <td>2020</td>\n",
       "      <td>5.0</td>\n",
       "      <td>1</td>\n",
       "      <td>Petrol</td>\n",
       "      <td>350.0</td>\n",
       "      <td>14</td>\n",
       "      <td>65000.0</td>\n",
       "    </tr>\n",
       "  </tbody>\n",
       "</table>\n",
       "</div>"
      ],
      "text/plain": [
       "   Manufactured_year  Engine_warranty Engine_type Fuel_type  \\\n",
       "0               2020              5.0           1    Petrol   \n",
       "1               2020              5.0           1    Petrol   \n",
       "2               2020              5.0           2    Petrol   \n",
       "3               2020              5.0           1    Petrol   \n",
       "4               2020              5.0           1    Petrol   \n",
       "\n",
       "   CC(Cubic capacity) Fuel_Capacity     Price  \n",
       "0               220.0           10   113000.0  \n",
       "1               120.0           11    70000.0  \n",
       "2               140.0           12    85000.0  \n",
       "3               150.0           13    90000.0  \n",
       "4               350.0           14    65000.0  "
      ]
     },
     "execution_count": 91,
     "metadata": {},
     "output_type": "execute_result"
    }
   ],
   "source": [
    "data.head()"
   ]
  },
  {
   "cell_type": "code",
   "execution_count": 98,
   "id": "f7d33d0a",
   "metadata": {},
   "outputs": [
    {
     "data": {
      "text/html": [
       "<div>\n",
       "<style scoped>\n",
       "    .dataframe tbody tr th:only-of-type {\n",
       "        vertical-align: middle;\n",
       "    }\n",
       "\n",
       "    .dataframe tbody tr th {\n",
       "        vertical-align: top;\n",
       "    }\n",
       "\n",
       "    .dataframe thead th {\n",
       "        text-align: right;\n",
       "    }\n",
       "</style>\n",
       "<table border=\"1\" class=\"dataframe\">\n",
       "  <thead>\n",
       "    <tr style=\"text-align: right;\">\n",
       "      <th></th>\n",
       "      <th>Manufactured_year</th>\n",
       "      <th>Engine_warranty</th>\n",
       "      <th>Engine_type</th>\n",
       "      <th>CC(Cubic capacity)</th>\n",
       "      <th>Fuel_Capacity</th>\n",
       "      <th>Price</th>\n",
       "    </tr>\n",
       "  </thead>\n",
       "  <tbody>\n",
       "    <tr>\n",
       "      <th>0</th>\n",
       "      <td>2020</td>\n",
       "      <td>5.0</td>\n",
       "      <td>1</td>\n",
       "      <td>220.0</td>\n",
       "      <td>10</td>\n",
       "      <td>113000.0</td>\n",
       "    </tr>\n",
       "    <tr>\n",
       "      <th>1</th>\n",
       "      <td>2020</td>\n",
       "      <td>5.0</td>\n",
       "      <td>1</td>\n",
       "      <td>120.0</td>\n",
       "      <td>11</td>\n",
       "      <td>70000.0</td>\n",
       "    </tr>\n",
       "    <tr>\n",
       "      <th>2</th>\n",
       "      <td>2020</td>\n",
       "      <td>5.0</td>\n",
       "      <td>2</td>\n",
       "      <td>140.0</td>\n",
       "      <td>12</td>\n",
       "      <td>85000.0</td>\n",
       "    </tr>\n",
       "    <tr>\n",
       "      <th>3</th>\n",
       "      <td>2020</td>\n",
       "      <td>5.0</td>\n",
       "      <td>1</td>\n",
       "      <td>150.0</td>\n",
       "      <td>13</td>\n",
       "      <td>90000.0</td>\n",
       "    </tr>\n",
       "    <tr>\n",
       "      <th>4</th>\n",
       "      <td>2020</td>\n",
       "      <td>5.0</td>\n",
       "      <td>1</td>\n",
       "      <td>350.0</td>\n",
       "      <td>14</td>\n",
       "      <td>65000.0</td>\n",
       "    </tr>\n",
       "  </tbody>\n",
       "</table>\n",
       "</div>"
      ],
      "text/plain": [
       "   Manufactured_year  Engine_warranty Engine_type  CC(Cubic capacity)  \\\n",
       "0               2020              5.0           1               220.0   \n",
       "1               2020              5.0           1               120.0   \n",
       "2               2020              5.0           2               140.0   \n",
       "3               2020              5.0           1               150.0   \n",
       "4               2020              5.0           1               350.0   \n",
       "\n",
       "  Fuel_Capacity     Price  \n",
       "0           10   113000.0  \n",
       "1           11    70000.0  \n",
       "2           12    85000.0  \n",
       "3           13    90000.0  \n",
       "4           14    65000.0  "
      ]
     },
     "execution_count": 98,
     "metadata": {},
     "output_type": "execute_result"
    }
   ],
   "source": [
    "#data.drop(columns=['Fuel_type'],inplace=True)\n",
    "data.head()"
   ]
  },
  {
   "cell_type": "code",
   "execution_count": 99,
   "id": "0d171a0f",
   "metadata": {},
   "outputs": [
    {
     "name": "stdout",
     "output_type": "stream",
     "text": [
      "<class 'pandas.core.frame.DataFrame'>\n",
      "RangeIndex: 308 entries, 0 to 307\n",
      "Data columns (total 6 columns):\n",
      " #   Column              Non-Null Count  Dtype  \n",
      "---  ------              --------------  -----  \n",
      " 0   Manufactured_year   308 non-null    int64  \n",
      " 1   Engine_warranty     308 non-null    float64\n",
      " 2   Engine_type         286 non-null    object \n",
      " 3   CC(Cubic capacity)  308 non-null    float64\n",
      " 4   Fuel_Capacity       307 non-null    object \n",
      " 5   Price               308 non-null    float64\n",
      "dtypes: float64(3), int64(1), object(2)\n",
      "memory usage: 14.6+ KB\n"
     ]
    }
   ],
   "source": [
    "data.info()"
   ]
  },
  {
   "cell_type": "code",
   "execution_count": 100,
   "id": "af097cbe",
   "metadata": {},
   "outputs": [
    {
     "data": {
      "text/html": [
       "<div>\n",
       "<style scoped>\n",
       "    .dataframe tbody tr th:only-of-type {\n",
       "        vertical-align: middle;\n",
       "    }\n",
       "\n",
       "    .dataframe tbody tr th {\n",
       "        vertical-align: top;\n",
       "    }\n",
       "\n",
       "    .dataframe thead th {\n",
       "        text-align: right;\n",
       "    }\n",
       "</style>\n",
       "<table border=\"1\" class=\"dataframe\">\n",
       "  <thead>\n",
       "    <tr style=\"text-align: right;\">\n",
       "      <th></th>\n",
       "      <th>Manufactured_year</th>\n",
       "      <th>Engine_warranty</th>\n",
       "      <th>Engine_type</th>\n",
       "      <th>CC(Cubic capacity)</th>\n",
       "      <th>Fuel_Capacity</th>\n",
       "      <th>Price</th>\n",
       "    </tr>\n",
       "  </thead>\n",
       "  <tbody>\n",
       "    <tr>\n",
       "      <th>0</th>\n",
       "      <td>2020</td>\n",
       "      <td>5.0</td>\n",
       "      <td>1</td>\n",
       "      <td>220.0</td>\n",
       "      <td>10</td>\n",
       "      <td>113000.0</td>\n",
       "    </tr>\n",
       "    <tr>\n",
       "      <th>1</th>\n",
       "      <td>2020</td>\n",
       "      <td>5.0</td>\n",
       "      <td>1</td>\n",
       "      <td>120.0</td>\n",
       "      <td>11</td>\n",
       "      <td>70000.0</td>\n",
       "    </tr>\n",
       "    <tr>\n",
       "      <th>2</th>\n",
       "      <td>2020</td>\n",
       "      <td>5.0</td>\n",
       "      <td>2</td>\n",
       "      <td>140.0</td>\n",
       "      <td>12</td>\n",
       "      <td>85000.0</td>\n",
       "    </tr>\n",
       "    <tr>\n",
       "      <th>3</th>\n",
       "      <td>2020</td>\n",
       "      <td>5.0</td>\n",
       "      <td>1</td>\n",
       "      <td>150.0</td>\n",
       "      <td>13</td>\n",
       "      <td>90000.0</td>\n",
       "    </tr>\n",
       "    <tr>\n",
       "      <th>4</th>\n",
       "      <td>2020</td>\n",
       "      <td>5.0</td>\n",
       "      <td>1</td>\n",
       "      <td>350.0</td>\n",
       "      <td>14</td>\n",
       "      <td>65000.0</td>\n",
       "    </tr>\n",
       "    <tr>\n",
       "      <th>...</th>\n",
       "      <td>...</td>\n",
       "      <td>...</td>\n",
       "      <td>...</td>\n",
       "      <td>...</td>\n",
       "      <td>...</td>\n",
       "      <td>...</td>\n",
       "    </tr>\n",
       "    <tr>\n",
       "      <th>303</th>\n",
       "      <td>2017</td>\n",
       "      <td>3.0</td>\n",
       "      <td>2</td>\n",
       "      <td>185.0</td>\n",
       "      <td>19</td>\n",
       "      <td>81916.0</td>\n",
       "    </tr>\n",
       "    <tr>\n",
       "      <th>304</th>\n",
       "      <td>2017</td>\n",
       "      <td>3.0</td>\n",
       "      <td>2</td>\n",
       "      <td>205.0</td>\n",
       "      <td>20</td>\n",
       "      <td>82666.0</td>\n",
       "    </tr>\n",
       "    <tr>\n",
       "      <th>305</th>\n",
       "      <td>2017</td>\n",
       "      <td>3.0</td>\n",
       "      <td>2</td>\n",
       "      <td>185.0</td>\n",
       "      <td>21</td>\n",
       "      <td>83416.0</td>\n",
       "    </tr>\n",
       "    <tr>\n",
       "      <th>306</th>\n",
       "      <td>2017</td>\n",
       "      <td>3.0</td>\n",
       "      <td>2</td>\n",
       "      <td>205.0</td>\n",
       "      <td>22</td>\n",
       "      <td>84166.0</td>\n",
       "    </tr>\n",
       "    <tr>\n",
       "      <th>307</th>\n",
       "      <td>2017</td>\n",
       "      <td>3.0</td>\n",
       "      <td>2</td>\n",
       "      <td>220.0</td>\n",
       "      <td>23</td>\n",
       "      <td>84916.0</td>\n",
       "    </tr>\n",
       "  </tbody>\n",
       "</table>\n",
       "<p>285 rows × 6 columns</p>\n",
       "</div>"
      ],
      "text/plain": [
       "     Manufactured_year  Engine_warranty Engine_type  CC(Cubic capacity)  \\\n",
       "0                 2020              5.0           1               220.0   \n",
       "1                 2020              5.0           1               120.0   \n",
       "2                 2020              5.0           2               140.0   \n",
       "3                 2020              5.0           1               150.0   \n",
       "4                 2020              5.0           1               350.0   \n",
       "..                 ...              ...         ...                 ...   \n",
       "303               2017              3.0           2               185.0   \n",
       "304               2017              3.0           2               205.0   \n",
       "305               2017              3.0           2               185.0   \n",
       "306               2017              3.0           2               205.0   \n",
       "307               2017              3.0           2               220.0   \n",
       "\n",
       "    Fuel_Capacity     Price  \n",
       "0             10   113000.0  \n",
       "1             11    70000.0  \n",
       "2             12    85000.0  \n",
       "3             13    90000.0  \n",
       "4             14    65000.0  \n",
       "..            ...       ...  \n",
       "303           19    81916.0  \n",
       "304           20    82666.0  \n",
       "305           21    83416.0  \n",
       "306           22    84166.0  \n",
       "307           23    84916.0  \n",
       "\n",
       "[285 rows x 6 columns]"
      ]
     },
     "execution_count": 100,
     "metadata": {},
     "output_type": "execute_result"
    }
   ],
   "source": [
    "data.dropna()"
   ]
  },
  {
   "cell_type": "code",
   "execution_count": 101,
   "id": "13daf9c9",
   "metadata": {},
   "outputs": [
    {
     "name": "stdout",
     "output_type": "stream",
     "text": [
      "<class 'pandas.core.frame.DataFrame'>\n",
      "RangeIndex: 308 entries, 0 to 307\n",
      "Data columns (total 6 columns):\n",
      " #   Column              Non-Null Count  Dtype  \n",
      "---  ------              --------------  -----  \n",
      " 0   Manufactured_year   308 non-null    int64  \n",
      " 1   Engine_warranty     308 non-null    float64\n",
      " 2   Engine_type         286 non-null    object \n",
      " 3   CC(Cubic capacity)  308 non-null    float64\n",
      " 4   Fuel_Capacity       307 non-null    object \n",
      " 5   Price               308 non-null    float64\n",
      "dtypes: float64(3), int64(1), object(2)\n",
      "memory usage: 14.6+ KB\n"
     ]
    }
   ],
   "source": []
  },
  {
   "cell_type": "code",
   "execution_count": 102,
   "id": "675e2a9b",
   "metadata": {},
   "outputs": [
    {
     "data": {
      "text/plain": [
       "(308, 1)"
      ]
     },
     "execution_count": 102,
     "metadata": {},
     "output_type": "execute_result"
    }
   ],
   "source": [
    "column=data['Engine_type'].values.reshape(-1,1)\n",
    "column.shape"
   ]
  },
  {
   "cell_type": "code",
   "execution_count": 104,
   "id": "1eb389e1",
   "metadata": {},
   "outputs": [],
   "source": [
    "\n",
    "imputer=SimpleImputer(missing_values=np.nan,strategy='median')\n",
    "data['Engine_type']=imputer.fit_transform(column)\n"
   ]
  },
  {
   "cell_type": "code",
   "execution_count": 105,
   "id": "441edd42",
   "metadata": {},
   "outputs": [
    {
     "name": "stdout",
     "output_type": "stream",
     "text": [
      "<class 'pandas.core.frame.DataFrame'>\n",
      "RangeIndex: 308 entries, 0 to 307\n",
      "Data columns (total 6 columns):\n",
      " #   Column              Non-Null Count  Dtype  \n",
      "---  ------              --------------  -----  \n",
      " 0   Manufactured_year   308 non-null    int64  \n",
      " 1   Engine_warranty     308 non-null    float64\n",
      " 2   Engine_type         308 non-null    float64\n",
      " 3   CC(Cubic capacity)  308 non-null    float64\n",
      " 4   Fuel_Capacity       307 non-null    object \n",
      " 5   Price               308 non-null    float64\n",
      "dtypes: float64(4), int64(1), object(1)\n",
      "memory usage: 14.6+ KB\n"
     ]
    }
   ],
   "source": [
    "data.info()"
   ]
  },
  {
   "cell_type": "code",
   "execution_count": 117,
   "id": "53b40607",
   "metadata": {},
   "outputs": [],
   "source": [
    "condition = (data['Fuel_Capacity'] == 'Battery')\n"
   ]
  },
  {
   "cell_type": "code",
   "execution_count": 118,
   "id": "b3edfab4",
   "metadata": {},
   "outputs": [],
   "source": [
    "data = data.loc[~condition]"
   ]
  },
  {
   "cell_type": "code",
   "execution_count": 119,
   "id": "d2a01041",
   "metadata": {},
   "outputs": [
    {
     "data": {
      "text/plain": [
       "Manufactured_year     268\n",
       "Engine_warranty       268\n",
       "Engine_type           268\n",
       "CC(Cubic capacity)    268\n",
       "Fuel_Capacity         268\n",
       "Price                 268\n",
       "dtype: int64"
      ]
     },
     "execution_count": 119,
     "metadata": {},
     "output_type": "execute_result"
    }
   ],
   "source": [
    "data.isnull().count()"
   ]
  },
  {
   "cell_type": "code",
   "execution_count": 120,
   "id": "c05dc2ac",
   "metadata": {},
   "outputs": [
    {
     "name": "stdout",
     "output_type": "stream",
     "text": [
      "<class 'pandas.core.frame.DataFrame'>\n",
      "Index: 268 entries, 0 to 307\n",
      "Data columns (total 6 columns):\n",
      " #   Column              Non-Null Count  Dtype  \n",
      "---  ------              --------------  -----  \n",
      " 0   Manufactured_year   268 non-null    int64  \n",
      " 1   Engine_warranty     268 non-null    float64\n",
      " 2   Engine_type         268 non-null    float64\n",
      " 3   CC(Cubic capacity)  268 non-null    float64\n",
      " 4   Fuel_Capacity       267 non-null    object \n",
      " 5   Price               268 non-null    float64\n",
      "dtypes: float64(4), int64(1), object(1)\n",
      "memory usage: 14.7+ KB\n"
     ]
    }
   ],
   "source": [
    "data.info()"
   ]
  },
  {
   "cell_type": "code",
   "execution_count": 121,
   "id": "ea1b9711",
   "metadata": {},
   "outputs": [
    {
     "data": {
      "text/plain": [
       "(268, 1)"
      ]
     },
     "execution_count": 121,
     "metadata": {},
     "output_type": "execute_result"
    }
   ],
   "source": [
    "column=data['Fuel_Capacity'].values.reshape(-1,1)\n",
    "column.shape"
   ]
  },
  {
   "cell_type": "code",
   "execution_count": 126,
   "id": "cf5d5822",
   "metadata": {},
   "outputs": [
    {
     "name": "stderr",
     "output_type": "stream",
     "text": [
      "C:\\Users\\Mahesh\\AppData\\Local\\Temp\\ipykernel_1716\\3596376700.py:2: SettingWithCopyWarning: \n",
      "A value is trying to be set on a copy of a slice from a DataFrame.\n",
      "Try using .loc[row_indexer,col_indexer] = value instead\n",
      "\n",
      "See the caveats in the documentation: https://pandas.pydata.org/pandas-docs/stable/user_guide/indexing.html#returning-a-view-versus-a-copy\n",
      "  data['Fuel_Capacity']=imputer.fit_transform(column)\n"
     ]
    }
   ],
   "source": [
    "imputer=SimpleImputer(missing_values=np.nan,strategy='mean')\n",
    "data['Fuel_Capacity']=imputer.fit_transform(column)\n"
   ]
  },
  {
   "cell_type": "code",
   "execution_count": 123,
   "id": "faf44b7c",
   "metadata": {},
   "outputs": [
    {
     "data": {
      "text/html": [
       "<div>\n",
       "<style scoped>\n",
       "    .dataframe tbody tr th:only-of-type {\n",
       "        vertical-align: middle;\n",
       "    }\n",
       "\n",
       "    .dataframe tbody tr th {\n",
       "        vertical-align: top;\n",
       "    }\n",
       "\n",
       "    .dataframe thead th {\n",
       "        text-align: right;\n",
       "    }\n",
       "</style>\n",
       "<table border=\"1\" class=\"dataframe\">\n",
       "  <thead>\n",
       "    <tr style=\"text-align: right;\">\n",
       "      <th></th>\n",
       "      <th>Manufactured_year</th>\n",
       "      <th>Engine_warranty</th>\n",
       "      <th>Engine_type</th>\n",
       "      <th>CC(Cubic capacity)</th>\n",
       "      <th>Fuel_Capacity</th>\n",
       "      <th>Price</th>\n",
       "    </tr>\n",
       "  </thead>\n",
       "  <tbody>\n",
       "    <tr>\n",
       "      <th>0</th>\n",
       "      <td>2020</td>\n",
       "      <td>5.0</td>\n",
       "      <td>1.0</td>\n",
       "      <td>220.0</td>\n",
       "      <td>10.0</td>\n",
       "      <td>113000.0</td>\n",
       "    </tr>\n",
       "    <tr>\n",
       "      <th>1</th>\n",
       "      <td>2020</td>\n",
       "      <td>5.0</td>\n",
       "      <td>1.0</td>\n",
       "      <td>120.0</td>\n",
       "      <td>11.0</td>\n",
       "      <td>70000.0</td>\n",
       "    </tr>\n",
       "    <tr>\n",
       "      <th>2</th>\n",
       "      <td>2020</td>\n",
       "      <td>5.0</td>\n",
       "      <td>2.0</td>\n",
       "      <td>140.0</td>\n",
       "      <td>12.0</td>\n",
       "      <td>85000.0</td>\n",
       "    </tr>\n",
       "    <tr>\n",
       "      <th>3</th>\n",
       "      <td>2020</td>\n",
       "      <td>5.0</td>\n",
       "      <td>1.0</td>\n",
       "      <td>150.0</td>\n",
       "      <td>13.0</td>\n",
       "      <td>90000.0</td>\n",
       "    </tr>\n",
       "    <tr>\n",
       "      <th>4</th>\n",
       "      <td>2020</td>\n",
       "      <td>5.0</td>\n",
       "      <td>1.0</td>\n",
       "      <td>350.0</td>\n",
       "      <td>14.0</td>\n",
       "      <td>65000.0</td>\n",
       "    </tr>\n",
       "  </tbody>\n",
       "</table>\n",
       "</div>"
      ],
      "text/plain": [
       "   Manufactured_year  Engine_warranty  Engine_type  CC(Cubic capacity)  \\\n",
       "0               2020              5.0          1.0               220.0   \n",
       "1               2020              5.0          1.0               120.0   \n",
       "2               2020              5.0          2.0               140.0   \n",
       "3               2020              5.0          1.0               150.0   \n",
       "4               2020              5.0          1.0               350.0   \n",
       "\n",
       "   Fuel_Capacity     Price  \n",
       "0           10.0  113000.0  \n",
       "1           11.0   70000.0  \n",
       "2           12.0   85000.0  \n",
       "3           13.0   90000.0  \n",
       "4           14.0   65000.0  "
      ]
     },
     "execution_count": 123,
     "metadata": {},
     "output_type": "execute_result"
    }
   ],
   "source": [
    "data.head()"
   ]
  },
  {
   "cell_type": "code",
   "execution_count": 127,
   "id": "dfa46e99",
   "metadata": {},
   "outputs": [],
   "source": [
    "from sklearn.preprocessing import StandardScaler\n",
    "scaler=StandardScaler()\n",
    "Y=data['Price']\n",
    "X=scaler.fit_transform(data.drop(columns=['Price']))\n",
    "X=pd.DataFrame(data=X,columns=data.drop(columns=['Price']).columns)"
   ]
  },
  {
   "cell_type": "code",
   "execution_count": 129,
   "id": "61f8214b",
   "metadata": {},
   "outputs": [
    {
     "data": {
      "text/html": [
       "<div>\n",
       "<style scoped>\n",
       "    .dataframe tbody tr th:only-of-type {\n",
       "        vertical-align: middle;\n",
       "    }\n",
       "\n",
       "    .dataframe tbody tr th {\n",
       "        vertical-align: top;\n",
       "    }\n",
       "\n",
       "    .dataframe thead th {\n",
       "        text-align: right;\n",
       "    }\n",
       "</style>\n",
       "<table border=\"1\" class=\"dataframe\">\n",
       "  <thead>\n",
       "    <tr style=\"text-align: right;\">\n",
       "      <th></th>\n",
       "      <th>Manufactured_year</th>\n",
       "      <th>Engine_warranty</th>\n",
       "      <th>Engine_type</th>\n",
       "      <th>CC(Cubic capacity)</th>\n",
       "      <th>Fuel_Capacity</th>\n",
       "    </tr>\n",
       "  </thead>\n",
       "  <tbody>\n",
       "    <tr>\n",
       "      <th>0</th>\n",
       "      <td>0.079605</td>\n",
       "      <td>-0.434717</td>\n",
       "      <td>-0.802603</td>\n",
       "      <td>-0.456652</td>\n",
       "      <td>-2.193535</td>\n",
       "    </tr>\n",
       "    <tr>\n",
       "      <th>1</th>\n",
       "      <td>0.079605</td>\n",
       "      <td>-0.434717</td>\n",
       "      <td>-0.802603</td>\n",
       "      <td>-0.892659</td>\n",
       "      <td>-1.963136</td>\n",
       "    </tr>\n",
       "    <tr>\n",
       "      <th>2</th>\n",
       "      <td>0.079605</td>\n",
       "      <td>-0.434717</td>\n",
       "      <td>1.245946</td>\n",
       "      <td>-0.805458</td>\n",
       "      <td>-1.732738</td>\n",
       "    </tr>\n",
       "    <tr>\n",
       "      <th>3</th>\n",
       "      <td>0.079605</td>\n",
       "      <td>-0.434717</td>\n",
       "      <td>-0.802603</td>\n",
       "      <td>-0.761857</td>\n",
       "      <td>-1.502339</td>\n",
       "    </tr>\n",
       "    <tr>\n",
       "      <th>4</th>\n",
       "      <td>0.079605</td>\n",
       "      <td>-0.434717</td>\n",
       "      <td>-0.802603</td>\n",
       "      <td>0.110157</td>\n",
       "      <td>-1.271940</td>\n",
       "    </tr>\n",
       "  </tbody>\n",
       "</table>\n",
       "</div>"
      ],
      "text/plain": [
       "   Manufactured_year  Engine_warranty  Engine_type  CC(Cubic capacity)  \\\n",
       "0           0.079605        -0.434717    -0.802603           -0.456652   \n",
       "1           0.079605        -0.434717    -0.802603           -0.892659   \n",
       "2           0.079605        -0.434717     1.245946           -0.805458   \n",
       "3           0.079605        -0.434717    -0.802603           -0.761857   \n",
       "4           0.079605        -0.434717    -0.802603            0.110157   \n",
       "\n",
       "   Fuel_Capacity  \n",
       "0      -2.193535  \n",
       "1      -1.963136  \n",
       "2      -1.732738  \n",
       "3      -1.502339  \n",
       "4      -1.271940  "
      ]
     },
     "execution_count": 129,
     "metadata": {},
     "output_type": "execute_result"
    }
   ],
   "source": [
    "X.head()"
   ]
  },
  {
   "cell_type": "code",
   "execution_count": 130,
   "id": "bf716b10",
   "metadata": {},
   "outputs": [
    {
     "data": {
      "text/html": [
       "<div>\n",
       "<style scoped>\n",
       "    .dataframe tbody tr th:only-of-type {\n",
       "        vertical-align: middle;\n",
       "    }\n",
       "\n",
       "    .dataframe tbody tr th {\n",
       "        vertical-align: top;\n",
       "    }\n",
       "\n",
       "    .dataframe thead th {\n",
       "        text-align: right;\n",
       "    }\n",
       "</style>\n",
       "<table border=\"1\" class=\"dataframe\">\n",
       "  <thead>\n",
       "    <tr style=\"text-align: right;\">\n",
       "      <th></th>\n",
       "      <th>Manufactured_year</th>\n",
       "      <th>Engine_warranty</th>\n",
       "      <th>Engine_type</th>\n",
       "      <th>CC(Cubic capacity)</th>\n",
       "      <th>Fuel_Capacity</th>\n",
       "    </tr>\n",
       "  </thead>\n",
       "  <tbody>\n",
       "    <tr>\n",
       "      <th>Manufactured_year</th>\n",
       "      <td>1.000000</td>\n",
       "      <td>0.071706</td>\n",
       "      <td>-0.075512</td>\n",
       "      <td>0.056242</td>\n",
       "      <td>0.019817</td>\n",
       "    </tr>\n",
       "    <tr>\n",
       "      <th>Engine_warranty</th>\n",
       "      <td>0.071706</td>\n",
       "      <td>1.000000</td>\n",
       "      <td>-0.180879</td>\n",
       "      <td>0.423503</td>\n",
       "      <td>0.207387</td>\n",
       "    </tr>\n",
       "    <tr>\n",
       "      <th>Engine_type</th>\n",
       "      <td>-0.075512</td>\n",
       "      <td>-0.180879</td>\n",
       "      <td>1.000000</td>\n",
       "      <td>-0.110654</td>\n",
       "      <td>-0.094507</td>\n",
       "    </tr>\n",
       "    <tr>\n",
       "      <th>CC(Cubic capacity)</th>\n",
       "      <td>0.056242</td>\n",
       "      <td>0.423503</td>\n",
       "      <td>-0.110654</td>\n",
       "      <td>1.000000</td>\n",
       "      <td>0.338387</td>\n",
       "    </tr>\n",
       "    <tr>\n",
       "      <th>Fuel_Capacity</th>\n",
       "      <td>0.019817</td>\n",
       "      <td>0.207387</td>\n",
       "      <td>-0.094507</td>\n",
       "      <td>0.338387</td>\n",
       "      <td>1.000000</td>\n",
       "    </tr>\n",
       "  </tbody>\n",
       "</table>\n",
       "</div>"
      ],
      "text/plain": [
       "                    Manufactured_year  Engine_warranty  Engine_type  \\\n",
       "Manufactured_year            1.000000         0.071706    -0.075512   \n",
       "Engine_warranty              0.071706         1.000000    -0.180879   \n",
       "Engine_type                 -0.075512        -0.180879     1.000000   \n",
       "CC(Cubic capacity)           0.056242         0.423503    -0.110654   \n",
       "Fuel_Capacity                0.019817         0.207387    -0.094507   \n",
       "\n",
       "                    CC(Cubic capacity)  Fuel_Capacity  \n",
       "Manufactured_year             0.056242       0.019817  \n",
       "Engine_warranty               0.423503       0.207387  \n",
       "Engine_type                  -0.110654      -0.094507  \n",
       "CC(Cubic capacity)            1.000000       0.338387  \n",
       "Fuel_Capacity                 0.338387       1.000000  "
      ]
     },
     "execution_count": 130,
     "metadata": {},
     "output_type": "execute_result"
    }
   ],
   "source": [
    "X.corr()"
   ]
  },
  {
   "cell_type": "code",
   "execution_count": 131,
   "id": "406d4a18",
   "metadata": {},
   "outputs": [
    {
     "data": {
      "text/plain": [
       "([], 0)"
      ]
     },
     "execution_count": 131,
     "metadata": {},
     "output_type": "execute_result"
    }
   ],
   "source": [
    "k=X.corr()\n",
    "z=[[str(i),str(j)] for i in k.columns for j in k.columns if(k.loc[i,j]>abs(0.5))&(i!=j)]\n",
    "z,len(z)"
   ]
  },
  {
   "cell_type": "code",
   "execution_count": 132,
   "id": "7f01a51f",
   "metadata": {},
   "outputs": [
    {
     "data": {
      "text/plain": [
       "Manufactured_year     1.010009\n",
       "Engine_warranty       1.254146\n",
       "Engine_type           1.042119\n",
       "CC(Cubic capacity)    1.326058\n",
       "Fuel_Capacity         1.138683\n",
       "dtype: float64"
      ]
     },
     "execution_count": 132,
     "metadata": {},
     "output_type": "execute_result"
    }
   ],
   "source": [
    "from statsmodels.stats.outliers_influence import variance_inflation_factor\n",
    "vif_data=X\n",
    "VIF=pd.Series([variance_inflation_factor(vif_data.values,i)for i in range(vif_data.shape[1])],index=vif_data.columns)\n",
    "VIF"
   ]
  },
  {
   "cell_type": "code",
   "execution_count": 133,
   "id": "76d71bff",
   "metadata": {},
   "outputs": [],
   "source": [
    "def MC_remover(data):\n",
    "    vif=pd.Series([variance_inflation_factor(vif_data.values,i)for i in range(vif_data.shape[1])],index=vif_data.columns)\n",
    "    if vif.max()>5:\n",
    "        print(vif[vif==vif.max()].index[0],'Has been Removed')\n",
    "        data=data.drop(columns=[vif[vif==vif.max()].index[0]])\n",
    "        return data\n",
    "    else:\n",
    "      print(\" NO Multicollinearity present anymore\")\n",
    "      return data\n"
   ]
  },
  {
   "cell_type": "code",
   "execution_count": 134,
   "id": "264f0cd8",
   "metadata": {},
   "outputs": [
    {
     "name": "stdout",
     "output_type": "stream",
     "text": [
      " NO Multicollinearity present anymore\n",
      " NO Multicollinearity present anymore\n",
      " NO Multicollinearity present anymore\n",
      " NO Multicollinearity present anymore\n",
      " NO Multicollinearity present anymore\n",
      " NO Multicollinearity present anymore\n",
      " NO Multicollinearity present anymore\n"
     ]
    },
    {
     "data": {
      "text/html": [
       "<div>\n",
       "<style scoped>\n",
       "    .dataframe tbody tr th:only-of-type {\n",
       "        vertical-align: middle;\n",
       "    }\n",
       "\n",
       "    .dataframe tbody tr th {\n",
       "        vertical-align: top;\n",
       "    }\n",
       "\n",
       "    .dataframe thead th {\n",
       "        text-align: right;\n",
       "    }\n",
       "</style>\n",
       "<table border=\"1\" class=\"dataframe\">\n",
       "  <thead>\n",
       "    <tr style=\"text-align: right;\">\n",
       "      <th></th>\n",
       "      <th>Manufactured_year</th>\n",
       "      <th>Engine_warranty</th>\n",
       "      <th>Engine_type</th>\n",
       "      <th>CC(Cubic capacity)</th>\n",
       "      <th>Fuel_Capacity</th>\n",
       "    </tr>\n",
       "  </thead>\n",
       "  <tbody>\n",
       "    <tr>\n",
       "      <th>0</th>\n",
       "      <td>0.079605</td>\n",
       "      <td>-0.434717</td>\n",
       "      <td>-0.802603</td>\n",
       "      <td>-0.456652</td>\n",
       "      <td>-2.193535</td>\n",
       "    </tr>\n",
       "    <tr>\n",
       "      <th>1</th>\n",
       "      <td>0.079605</td>\n",
       "      <td>-0.434717</td>\n",
       "      <td>-0.802603</td>\n",
       "      <td>-0.892659</td>\n",
       "      <td>-1.963136</td>\n",
       "    </tr>\n",
       "    <tr>\n",
       "      <th>2</th>\n",
       "      <td>0.079605</td>\n",
       "      <td>-0.434717</td>\n",
       "      <td>1.245946</td>\n",
       "      <td>-0.805458</td>\n",
       "      <td>-1.732738</td>\n",
       "    </tr>\n",
       "    <tr>\n",
       "      <th>3</th>\n",
       "      <td>0.079605</td>\n",
       "      <td>-0.434717</td>\n",
       "      <td>-0.802603</td>\n",
       "      <td>-0.761857</td>\n",
       "      <td>-1.502339</td>\n",
       "    </tr>\n",
       "    <tr>\n",
       "      <th>4</th>\n",
       "      <td>0.079605</td>\n",
       "      <td>-0.434717</td>\n",
       "      <td>-0.802603</td>\n",
       "      <td>0.110157</td>\n",
       "      <td>-1.271940</td>\n",
       "    </tr>\n",
       "  </tbody>\n",
       "</table>\n",
       "</div>"
      ],
      "text/plain": [
       "   Manufactured_year  Engine_warranty  Engine_type  CC(Cubic capacity)  \\\n",
       "0           0.079605        -0.434717    -0.802603           -0.456652   \n",
       "1           0.079605        -0.434717    -0.802603           -0.892659   \n",
       "2           0.079605        -0.434717     1.245946           -0.805458   \n",
       "3           0.079605        -0.434717    -0.802603           -0.761857   \n",
       "4           0.079605        -0.434717    -0.802603            0.110157   \n",
       "\n",
       "   Fuel_Capacity  \n",
       "0      -2.193535  \n",
       "1      -1.963136  \n",
       "2      -1.732738  \n",
       "3      -1.502339  \n",
       "4      -1.271940  "
      ]
     },
     "execution_count": 134,
     "metadata": {},
     "output_type": "execute_result"
    }
   ],
   "source": [
    "for i in range(7):\n",
    "  vif_data=MC_remover(vif_data)\n",
    "vif_data.head()"
   ]
  },
  {
   "cell_type": "code",
   "execution_count": 135,
   "id": "84c94d5b",
   "metadata": {},
   "outputs": [
    {
     "data": {
      "text/plain": [
       "(Manufactured_year     1.010009\n",
       " Engine_warranty       1.254146\n",
       " Engine_type           1.042119\n",
       " CC(Cubic capacity)    1.326058\n",
       " Fuel_Capacity         1.138683\n",
       " dtype: float64,\n",
       " 5)"
      ]
     },
     "execution_count": 135,
     "metadata": {},
     "output_type": "execute_result"
    }
   ],
   "source": [
    "VIF=pd.Series([variance_inflation_factor(vif_data.values,i)for i in range(vif_data.shape[1])],index=vif_data.columns)\n",
    "VIF,len(vif_data.columns)"
   ]
  },
  {
   "cell_type": "code",
   "execution_count": 136,
   "id": "1dfb21ca",
   "metadata": {},
   "outputs": [],
   "source": [
    "x=vif_data"
   ]
  },
  {
   "cell_type": "code",
   "execution_count": 137,
   "id": "519627bc",
   "metadata": {},
   "outputs": [],
   "source": [
    "y=data['Price']"
   ]
  },
  {
   "cell_type": "code",
   "execution_count": 138,
   "id": "174122d2",
   "metadata": {},
   "outputs": [],
   "source": [
    "from sklearn.model_selection import train_test_split as tts"
   ]
  },
  {
   "cell_type": "code",
   "execution_count": 139,
   "id": "40ba07ec",
   "metadata": {},
   "outputs": [],
   "source": [
    "x_train,x_test,y_train,y_test=tts(X,Y,test_size=0.3,random_state=101)"
   ]
  },
  {
   "cell_type": "code",
   "execution_count": 140,
   "id": "8d361fdf",
   "metadata": {},
   "outputs": [
    {
     "data": {
      "text/plain": [
       "((187, 5), (81, 5), (187,), (81,))"
      ]
     },
     "execution_count": 140,
     "metadata": {},
     "output_type": "execute_result"
    }
   ],
   "source": [
    "x_train.shape,x_test.shape,y_train.shape,y_test.shape"
   ]
  },
  {
   "cell_type": "code",
   "execution_count": 141,
   "id": "510d54bb",
   "metadata": {},
   "outputs": [],
   "source": [
    "from sklearn.linear_model import LinearRegression \n",
    "lr=LinearRegression()"
   ]
  },
  {
   "cell_type": "code",
   "execution_count": 142,
   "id": "c6719459",
   "metadata": {},
   "outputs": [
    {
     "data": {
      "text/html": [
       "<style>#sk-container-id-1 {color: black;}#sk-container-id-1 pre{padding: 0;}#sk-container-id-1 div.sk-toggleable {background-color: white;}#sk-container-id-1 label.sk-toggleable__label {cursor: pointer;display: block;width: 100%;margin-bottom: 0;padding: 0.3em;box-sizing: border-box;text-align: center;}#sk-container-id-1 label.sk-toggleable__label-arrow:before {content: \"▸\";float: left;margin-right: 0.25em;color: #696969;}#sk-container-id-1 label.sk-toggleable__label-arrow:hover:before {color: black;}#sk-container-id-1 div.sk-estimator:hover label.sk-toggleable__label-arrow:before {color: black;}#sk-container-id-1 div.sk-toggleable__content {max-height: 0;max-width: 0;overflow: hidden;text-align: left;background-color: #f0f8ff;}#sk-container-id-1 div.sk-toggleable__content pre {margin: 0.2em;color: black;border-radius: 0.25em;background-color: #f0f8ff;}#sk-container-id-1 input.sk-toggleable__control:checked~div.sk-toggleable__content {max-height: 200px;max-width: 100%;overflow: auto;}#sk-container-id-1 input.sk-toggleable__control:checked~label.sk-toggleable__label-arrow:before {content: \"▾\";}#sk-container-id-1 div.sk-estimator input.sk-toggleable__control:checked~label.sk-toggleable__label {background-color: #d4ebff;}#sk-container-id-1 div.sk-label input.sk-toggleable__control:checked~label.sk-toggleable__label {background-color: #d4ebff;}#sk-container-id-1 input.sk-hidden--visually {border: 0;clip: rect(1px 1px 1px 1px);clip: rect(1px, 1px, 1px, 1px);height: 1px;margin: -1px;overflow: hidden;padding: 0;position: absolute;width: 1px;}#sk-container-id-1 div.sk-estimator {font-family: monospace;background-color: #f0f8ff;border: 1px dotted black;border-radius: 0.25em;box-sizing: border-box;margin-bottom: 0.5em;}#sk-container-id-1 div.sk-estimator:hover {background-color: #d4ebff;}#sk-container-id-1 div.sk-parallel-item::after {content: \"\";width: 100%;border-bottom: 1px solid gray;flex-grow: 1;}#sk-container-id-1 div.sk-label:hover label.sk-toggleable__label {background-color: #d4ebff;}#sk-container-id-1 div.sk-serial::before {content: \"\";position: absolute;border-left: 1px solid gray;box-sizing: border-box;top: 0;bottom: 0;left: 50%;z-index: 0;}#sk-container-id-1 div.sk-serial {display: flex;flex-direction: column;align-items: center;background-color: white;padding-right: 0.2em;padding-left: 0.2em;position: relative;}#sk-container-id-1 div.sk-item {position: relative;z-index: 1;}#sk-container-id-1 div.sk-parallel {display: flex;align-items: stretch;justify-content: center;background-color: white;position: relative;}#sk-container-id-1 div.sk-item::before, #sk-container-id-1 div.sk-parallel-item::before {content: \"\";position: absolute;border-left: 1px solid gray;box-sizing: border-box;top: 0;bottom: 0;left: 50%;z-index: -1;}#sk-container-id-1 div.sk-parallel-item {display: flex;flex-direction: column;z-index: 1;position: relative;background-color: white;}#sk-container-id-1 div.sk-parallel-item:first-child::after {align-self: flex-end;width: 50%;}#sk-container-id-1 div.sk-parallel-item:last-child::after {align-self: flex-start;width: 50%;}#sk-container-id-1 div.sk-parallel-item:only-child::after {width: 0;}#sk-container-id-1 div.sk-dashed-wrapped {border: 1px dashed gray;margin: 0 0.4em 0.5em 0.4em;box-sizing: border-box;padding-bottom: 0.4em;background-color: white;}#sk-container-id-1 div.sk-label label {font-family: monospace;font-weight: bold;display: inline-block;line-height: 1.2em;}#sk-container-id-1 div.sk-label-container {text-align: center;}#sk-container-id-1 div.sk-container {/* jupyter's `normalize.less` sets `[hidden] { display: none; }` but bootstrap.min.css set `[hidden] { display: none !important; }` so we also need the `!important` here to be able to override the default hidden behavior on the sphinx rendered scikit-learn.org. See: https://github.com/scikit-learn/scikit-learn/issues/21755 */display: inline-block !important;position: relative;}#sk-container-id-1 div.sk-text-repr-fallback {display: none;}</style><div id=\"sk-container-id-1\" class=\"sk-top-container\"><div class=\"sk-text-repr-fallback\"><pre>LinearRegression()</pre><b>In a Jupyter environment, please rerun this cell to show the HTML representation or trust the notebook. <br />On GitHub, the HTML representation is unable to render, please try loading this page with nbviewer.org.</b></div><div class=\"sk-container\" hidden><div class=\"sk-item\"><div class=\"sk-estimator sk-toggleable\"><input class=\"sk-toggleable__control sk-hidden--visually\" id=\"sk-estimator-id-1\" type=\"checkbox\" checked><label for=\"sk-estimator-id-1\" class=\"sk-toggleable__label sk-toggleable__label-arrow\">LinearRegression</label><div class=\"sk-toggleable__content\"><pre>LinearRegression()</pre></div></div></div></div></div>"
      ],
      "text/plain": [
       "LinearRegression()"
      ]
     },
     "execution_count": 142,
     "metadata": {},
     "output_type": "execute_result"
    }
   ],
   "source": [
    "lr.fit(x_train,y_train)"
   ]
  },
  {
   "cell_type": "code",
   "execution_count": 143,
   "id": "851b98c0",
   "metadata": {},
   "outputs": [
    {
     "data": {
      "text/plain": [
       "array([  2520.49599522,  40189.6787324 ,  32017.82434444, 121875.43222737,\n",
       "        53839.13507607])"
      ]
     },
     "execution_count": 143,
     "metadata": {},
     "output_type": "execute_result"
    }
   ],
   "source": [
    "lr.coef_"
   ]
  },
  {
   "cell_type": "code",
   "execution_count": 145,
   "id": "fed4ab00",
   "metadata": {},
   "outputs": [],
   "source": [
    "predictions=lr.predict(x_test)"
   ]
  },
  {
   "cell_type": "code",
   "execution_count": 146,
   "id": "22c7c9cb",
   "metadata": {},
   "outputs": [
    {
     "data": {
      "text/plain": [
       "0.5689327015218661"
      ]
     },
     "execution_count": 146,
     "metadata": {},
     "output_type": "execute_result"
    }
   ],
   "source": [
    "lr.score(x_test,y_test)"
   ]
  },
  {
   "cell_type": "markdown",
   "id": "5e21ee26",
   "metadata": {},
   "source": [
    "Residual plot"
   ]
  },
  {
   "cell_type": "code",
   "execution_count": 147,
   "id": "8bf2956d",
   "metadata": {},
   "outputs": [],
   "source": [
    "residuals=predictions-y_test\n",
    "residuals_table=pd.DataFrame({'residuals':residuals,'predictions':predictions})\n",
    "residuals_table=residuals_table.sort_values(by='predictions')"
   ]
  },
  {
   "cell_type": "code",
   "execution_count": 148,
   "id": "27a0942e",
   "metadata": {},
   "outputs": [],
   "source": [
    "z=[i for i in range(int(residuals_table['predictions'].max()))]\n",
    "k=[0 for i in range(int(residuals_table['predictions'].max()))]"
   ]
  },
  {
   "cell_type": "code",
   "execution_count": 149,
   "id": "6be26982",
   "metadata": {},
   "outputs": [
    {
     "data": {
      "text/plain": [
       "<matplotlib.legend.Legend at 0x1dde3e223d0>"
      ]
     },
     "execution_count": 149,
     "metadata": {},
     "output_type": "execute_result"
    },
    {
     "data": {
      "image/png": "[encoded data removed]",
      "text/plain": [
       "<Figure size 2210x910 with 1 Axes>"
      ]
     },
     "metadata": {},
     "output_type": "display_data"
    }
   ],
   "source": [
    "plt.figure(dpi=130,figsize=(17,7))\n",
    "plt.scatter(residuals_table['predictions'],residuals_table['residuals'],color=\"r\",s=2)\n",
    "plt.plot(z,k,color='g',linewidth=3,label='regresssion')\n",
    "plt.ylim(-800000,800000)\n",
    "plt.xlabel(\"fitted points( ordered by prediction)\")\n",
    "plt.ylabel(\"Residuals\")\n",
    "plt.title(\"Residual Plot\")\n",
    "plt.legend()"
   ]
  },
  {
   "cell_type": "code",
   "execution_count": 153,
   "id": "c21134db",
   "metadata": {},
   "outputs": [
    {
     "name": "stderr",
     "output_type": "stream",
     "text": [
      "C:\\Users\\Mahesh\\anaconda3\\Lib\\site-packages\\seaborn\\axisgrid.py:118: UserWarning: The figure layout has changed to tight\n",
      "  self._figure.tight_layout(*args, **kwargs)\n"
     ]
    },
    {
     "data": {
      "text/plain": [
       "Text(0.5, 1.0, 'distribution of the residuals')"
      ]
     },
     "execution_count": 153,
     "metadata": {},
     "output_type": "execute_result"
    },
    {
     "data": {
      "text/plain": [
       "<Figure size 1000x700 with 0 Axes>"
      ]
     },
     "metadata": {},
     "output_type": "display_data"
    },
    {
     "data": {
      "image/png": "[encoded data removed]",
      "text/plain": [
       "<Figure size 500x500 with 1 Axes>"
      ]
     },
     "metadata": {},
     "output_type": "display_data"
    }
   ],
   "source": [
    "plt.figure(dpi=100,figsize=(10,7))\n",
    "sns.displot(residuals_table['residuals'],color=\"r\",bins=70)\n",
    "plt.xlabel('residuls')\n",
    "plt.ylabel('frequency')\n",
    "plt.title(\"distribution of the residuals\")"
   ]
  },
  {
   "cell_type": "code",
   "execution_count": 154,
   "id": "1e7a7977",
   "metadata": {},
   "outputs": [],
   "source": [
    "coefficents_table=pd.DataFrame({'column':x_train.columns,'coefficients':lr.coef_})"
   ]
  },
  {
   "cell_type": "code",
   "execution_count": 155,
   "id": "e0cfdd4a",
   "metadata": {},
   "outputs": [
    {
     "data": {
      "text/html": [
       "<div>\n",
       "<style scoped>\n",
       "    .dataframe tbody tr th:only-of-type {\n",
       "        vertical-align: middle;\n",
       "    }\n",
       "\n",
       "    .dataframe tbody tr th {\n",
       "        vertical-align: top;\n",
       "    }\n",
       "\n",
       "    .dataframe thead th {\n",
       "        text-align: right;\n",
       "    }\n",
       "</style>\n",
       "<table border=\"1\" class=\"dataframe\">\n",
       "  <thead>\n",
       "    <tr style=\"text-align: right;\">\n",
       "      <th></th>\n",
       "      <th>column</th>\n",
       "      <th>coefficients</th>\n",
       "    </tr>\n",
       "  </thead>\n",
       "  <tbody>\n",
       "    <tr>\n",
       "      <th>0</th>\n",
       "      <td>Manufactured_year</td>\n",
       "      <td>2520.495995</td>\n",
       "    </tr>\n",
       "    <tr>\n",
       "      <th>1</th>\n",
       "      <td>Engine_warranty</td>\n",
       "      <td>40189.678732</td>\n",
       "    </tr>\n",
       "    <tr>\n",
       "      <th>2</th>\n",
       "      <td>Engine_type</td>\n",
       "      <td>32017.824344</td>\n",
       "    </tr>\n",
       "    <tr>\n",
       "      <th>3</th>\n",
       "      <td>CC(Cubic capacity)</td>\n",
       "      <td>121875.432227</td>\n",
       "    </tr>\n",
       "    <tr>\n",
       "      <th>4</th>\n",
       "      <td>Fuel_Capacity</td>\n",
       "      <td>53839.135076</td>\n",
       "    </tr>\n",
       "  </tbody>\n",
       "</table>\n",
       "</div>"
      ],
      "text/plain": [
       "               column   coefficients\n",
       "0   Manufactured_year    2520.495995\n",
       "1     Engine_warranty   40189.678732\n",
       "2         Engine_type   32017.824344\n",
       "3  CC(Cubic capacity)  121875.432227\n",
       "4       Fuel_Capacity   53839.135076"
      ]
     },
     "execution_count": 155,
     "metadata": {},
     "output_type": "execute_result"
    }
   ],
   "source": [
    "coefficents_table.head()"
   ]
  },
  {
   "cell_type": "code",
   "execution_count": 156,
   "id": "46630781",
   "metadata": {},
   "outputs": [
    {
     "data": {
      "image/png": "[encoded data removed]",
      "text/plain": [
       "<Figure size 960x720 with 1 Axes>"
      ]
     },
     "metadata": {},
     "output_type": "display_data"
    }
   ],
   "source": [
    "plt.figure(figsize=(8,6),dpi=120)\n",
    "x=coefficents_table['column']\n",
    "y=coefficents_table['coefficients']\n",
    "plt.barh(x,y)\n",
    "plt.xlabel('Coeffients')\n",
    "plt.ylabel('Variables')\n",
    "plt.title('Normalized Coefficent Plot')\n",
    "plt.show()\n"
   ]
  },
  {
   "cell_type": "code",
   "execution_count": null,
   "id": "6aa42d2d",
   "metadata": {},
   "outputs": [],
   "source": []
  }
 ],
 "metadata": {
  "kernelspec": {
   "display_name": "Python 3 (ipykernel)",
   "language": "python",
   "name": "python3"
  },
  "language_info": {
   "codemirror_mode": {
    "name": "ipython",
    "version": 3
   },
   "file_extension": ".py",
   "mimetype": "text/x-python",
   "name": "python",
   "nbconvert_exporter": "python",
   "pygments_lexer": "ipython3",
   "version": "3.11.5"
  }
 },
 "nbformat": 4,
 "nbformat_minor": 5
}
